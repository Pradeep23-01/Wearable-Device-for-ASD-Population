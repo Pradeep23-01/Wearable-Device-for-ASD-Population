{
  "nbformat": 4,
  "nbformat_minor": 0,
  "metadata": {
    "colab": {
      "provenance": [],
      "include_colab_link": true
    },
    "kernelspec": {
      "name": "python3",
      "display_name": "Python 3"
    },
    "language_info": {
      "name": "python"
    }
  },
  "cells": [
    {
      "cell_type": "markdown",
      "metadata": {
        "id": "view-in-github",
        "colab_type": "text"
      },
      "source": [
        "<a href=\"https://colab.research.google.com/github/Pradeep23-01/Wearable-Device-for-ASD-Population/blob/main/IFP_Visualize.ipynb\" target=\"_parent\"><img src=\"https://colab.research.google.com/assets/colab-badge.svg\" alt=\"Open In Colab\"/></a>"
      ]
    },
    {
      "cell_type": "code",
      "source": [
        "from google.colab import drive\n",
        "drive.mount('/content/drive/', force_remount=True)"
      ],
      "metadata": {
        "colab": {
          "base_uri": "https://localhost:8080/"
        },
        "id": "53zq2MEnpCcG",
        "outputId": "e100b201-3e90-4670-fb6d-2b044d75d8d4"
      },
      "execution_count": null,
      "outputs": [
        {
          "output_type": "stream",
          "name": "stdout",
          "text": [
            "Mounted at /content/drive/\n"
          ]
        }
      ]
    },
    {
      "cell_type": "code",
      "metadata": {
        "id": "XlF_28PzkbNB"
      },
      "source": [
        "import pandas as pd\n",
        "import matplotlib.pyplot as plt "
      ],
      "execution_count": null,
      "outputs": []
    },
    {
      "cell_type": "code",
      "metadata": {
        "id": "YE4cd3-qtB-9"
      },
      "source": [
        "nor = pd.read_csv('/content/drive/MyDrive/Autism/CSV/Normal.csv')\n",
        "aut = pd.read_csv('/content/drive/MyDrive/Autism/CSV/Autism.csv')"
      ],
      "execution_count": null,
      "outputs": []
    },
    {
      "cell_type": "code",
      "metadata": {
        "colab": {
          "base_uri": "https://localhost:8080/",
          "height": 206
        },
        "id": "MouUlO1Pt3vV",
        "outputId": "c034ae2f-e8d0-4ecf-8498-247c98a04a16"
      },
      "source": [
        "nor.head()"
      ],
      "execution_count": null,
      "outputs": [
        {
          "output_type": "execute_result",
          "data": {
            "text/plain": [
              "        Date      Time  Subject  BPM    GSR Gender  Age  Human Resistance\n",
              "0  18/7/2021  21:39:18       10   45  129.0      M   21      33472.584856\n",
              "1  18/7/2021  21:39:23       10   55  125.0      M   21      32919.896641\n",
              "2  18/7/2021  21:39:29       10   90  126.0      M   21      33056.994819\n",
              "3  18/7/2021  21:39:35       10  115  127.0      M   21      33194.805195\n",
              "4  18/7/2021  21:39:40       10  107  126.0      M   21      33056.994819"
            ],
            "text/html": [
              "\n",
              "  <div id=\"df-f587c9d6-f51e-463a-8fd2-1adb9a7d6226\">\n",
              "    <div class=\"colab-df-container\">\n",
              "      <div>\n",
              "<style scoped>\n",
              "    .dataframe tbody tr th:only-of-type {\n",
              "        vertical-align: middle;\n",
              "    }\n",
              "\n",
              "    .dataframe tbody tr th {\n",
              "        vertical-align: top;\n",
              "    }\n",
              "\n",
              "    .dataframe thead th {\n",
              "        text-align: right;\n",
              "    }\n",
              "</style>\n",
              "<table border=\"1\" class=\"dataframe\">\n",
              "  <thead>\n",
              "    <tr style=\"text-align: right;\">\n",
              "      <th></th>\n",
              "      <th>Date</th>\n",
              "      <th>Time</th>\n",
              "      <th>Subject</th>\n",
              "      <th>BPM</th>\n",
              "      <th>GSR</th>\n",
              "      <th>Gender</th>\n",
              "      <th>Age</th>\n",
              "      <th>Human Resistance</th>\n",
              "    </tr>\n",
              "  </thead>\n",
              "  <tbody>\n",
              "    <tr>\n",
              "      <th>0</th>\n",
              "      <td>18/7/2021</td>\n",
              "      <td>21:39:18</td>\n",
              "      <td>10</td>\n",
              "      <td>45</td>\n",
              "      <td>129.0</td>\n",
              "      <td>M</td>\n",
              "      <td>21</td>\n",
              "      <td>33472.584856</td>\n",
              "    </tr>\n",
              "    <tr>\n",
              "      <th>1</th>\n",
              "      <td>18/7/2021</td>\n",
              "      <td>21:39:23</td>\n",
              "      <td>10</td>\n",
              "      <td>55</td>\n",
              "      <td>125.0</td>\n",
              "      <td>M</td>\n",
              "      <td>21</td>\n",
              "      <td>32919.896641</td>\n",
              "    </tr>\n",
              "    <tr>\n",
              "      <th>2</th>\n",
              "      <td>18/7/2021</td>\n",
              "      <td>21:39:29</td>\n",
              "      <td>10</td>\n",
              "      <td>90</td>\n",
              "      <td>126.0</td>\n",
              "      <td>M</td>\n",
              "      <td>21</td>\n",
              "      <td>33056.994819</td>\n",
              "    </tr>\n",
              "    <tr>\n",
              "      <th>3</th>\n",
              "      <td>18/7/2021</td>\n",
              "      <td>21:39:35</td>\n",
              "      <td>10</td>\n",
              "      <td>115</td>\n",
              "      <td>127.0</td>\n",
              "      <td>M</td>\n",
              "      <td>21</td>\n",
              "      <td>33194.805195</td>\n",
              "    </tr>\n",
              "    <tr>\n",
              "      <th>4</th>\n",
              "      <td>18/7/2021</td>\n",
              "      <td>21:39:40</td>\n",
              "      <td>10</td>\n",
              "      <td>107</td>\n",
              "      <td>126.0</td>\n",
              "      <td>M</td>\n",
              "      <td>21</td>\n",
              "      <td>33056.994819</td>\n",
              "    </tr>\n",
              "  </tbody>\n",
              "</table>\n",
              "</div>\n",
              "      <button class=\"colab-df-convert\" onclick=\"convertToInteractive('df-f587c9d6-f51e-463a-8fd2-1adb9a7d6226')\"\n",
              "              title=\"Convert this dataframe to an interactive table.\"\n",
              "              style=\"display:none;\">\n",
              "        \n",
              "  <svg xmlns=\"http://www.w3.org/2000/svg\" height=\"24px\"viewBox=\"0 0 24 24\"\n",
              "       width=\"24px\">\n",
              "    <path d=\"M0 0h24v24H0V0z\" fill=\"none\"/>\n",
              "    <path d=\"M18.56 5.44l.94 2.06.94-2.06 2.06-.94-2.06-.94-.94-2.06-.94 2.06-2.06.94zm-11 1L8.5 8.5l.94-2.06 2.06-.94-2.06-.94L8.5 2.5l-.94 2.06-2.06.94zm10 10l.94 2.06.94-2.06 2.06-.94-2.06-.94-.94-2.06-.94 2.06-2.06.94z\"/><path d=\"M17.41 7.96l-1.37-1.37c-.4-.4-.92-.59-1.43-.59-.52 0-1.04.2-1.43.59L10.3 9.45l-7.72 7.72c-.78.78-.78 2.05 0 2.83L4 21.41c.39.39.9.59 1.41.59.51 0 1.02-.2 1.41-.59l7.78-7.78 2.81-2.81c.8-.78.8-2.07 0-2.86zM5.41 20L4 18.59l7.72-7.72 1.47 1.35L5.41 20z\"/>\n",
              "  </svg>\n",
              "      </button>\n",
              "      \n",
              "  <style>\n",
              "    .colab-df-container {\n",
              "      display:flex;\n",
              "      flex-wrap:wrap;\n",
              "      gap: 12px;\n",
              "    }\n",
              "\n",
              "    .colab-df-convert {\n",
              "      background-color: #E8F0FE;\n",
              "      border: none;\n",
              "      border-radius: 50%;\n",
              "      cursor: pointer;\n",
              "      display: none;\n",
              "      fill: #1967D2;\n",
              "      height: 32px;\n",
              "      padding: 0 0 0 0;\n",
              "      width: 32px;\n",
              "    }\n",
              "\n",
              "    .colab-df-convert:hover {\n",
              "      background-color: #E2EBFA;\n",
              "      box-shadow: 0px 1px 2px rgba(60, 64, 67, 0.3), 0px 1px 3px 1px rgba(60, 64, 67, 0.15);\n",
              "      fill: #174EA6;\n",
              "    }\n",
              "\n",
              "    [theme=dark] .colab-df-convert {\n",
              "      background-color: #3B4455;\n",
              "      fill: #D2E3FC;\n",
              "    }\n",
              "\n",
              "    [theme=dark] .colab-df-convert:hover {\n",
              "      background-color: #434B5C;\n",
              "      box-shadow: 0px 1px 3px 1px rgba(0, 0, 0, 0.15);\n",
              "      filter: drop-shadow(0px 1px 2px rgba(0, 0, 0, 0.3));\n",
              "      fill: #FFFFFF;\n",
              "    }\n",
              "  </style>\n",
              "\n",
              "      <script>\n",
              "        const buttonEl =\n",
              "          document.querySelector('#df-f587c9d6-f51e-463a-8fd2-1adb9a7d6226 button.colab-df-convert');\n",
              "        buttonEl.style.display =\n",
              "          google.colab.kernel.accessAllowed ? 'block' : 'none';\n",
              "\n",
              "        async function convertToInteractive(key) {\n",
              "          const element = document.querySelector('#df-f587c9d6-f51e-463a-8fd2-1adb9a7d6226');\n",
              "          const dataTable =\n",
              "            await google.colab.kernel.invokeFunction('convertToInteractive',\n",
              "                                                     [key], {});\n",
              "          if (!dataTable) return;\n",
              "\n",
              "          const docLinkHtml = 'Like what you see? Visit the ' +\n",
              "            '<a target=\"_blank\" href=https://colab.research.google.com/notebooks/data_table.ipynb>data table notebook</a>'\n",
              "            + ' to learn more about interactive tables.';\n",
              "          element.innerHTML = '';\n",
              "          dataTable['output_type'] = 'display_data';\n",
              "          await google.colab.output.renderOutput(dataTable, element);\n",
              "          const docLink = document.createElement('div');\n",
              "          docLink.innerHTML = docLinkHtml;\n",
              "          element.appendChild(docLink);\n",
              "        }\n",
              "      </script>\n",
              "    </div>\n",
              "  </div>\n",
              "  "
            ]
          },
          "metadata": {},
          "execution_count": 4
        }
      ]
    },
    {
      "cell_type": "code",
      "metadata": {
        "colab": {
          "base_uri": "https://localhost:8080/",
          "height": 295
        },
        "id": "kOTAHTGUSVXC",
        "outputId": "9f5c240f-71b0-46bb-c7a2-bceec98e5ef9"
      },
      "source": [
        "nor.describe()"
      ],
      "execution_count": null,
      "outputs": [
        {
          "output_type": "execute_result",
          "data": {
            "text/html": [
              "<div>\n",
              "<style scoped>\n",
              "    .dataframe tbody tr th:only-of-type {\n",
              "        vertical-align: middle;\n",
              "    }\n",
              "\n",
              "    .dataframe tbody tr th {\n",
              "        vertical-align: top;\n",
              "    }\n",
              "\n",
              "    .dataframe thead th {\n",
              "        text-align: right;\n",
              "    }\n",
              "</style>\n",
              "<table border=\"1\" class=\"dataframe\">\n",
              "  <thead>\n",
              "    <tr style=\"text-align: right;\">\n",
              "      <th></th>\n",
              "      <th>Subject</th>\n",
              "      <th>BPM</th>\n",
              "      <th>GSR</th>\n",
              "      <th>Age</th>\n",
              "      <th>Human Resistance</th>\n",
              "    </tr>\n",
              "  </thead>\n",
              "  <tbody>\n",
              "    <tr>\n",
              "      <th>count</th>\n",
              "      <td>1611.000000</td>\n",
              "      <td>1611.000000</td>\n",
              "      <td>1611.000000</td>\n",
              "      <td>1611.000000</td>\n",
              "      <td>1611.000000</td>\n",
              "    </tr>\n",
              "    <tr>\n",
              "      <th>mean</th>\n",
              "      <td>20.319056</td>\n",
              "      <td>77.935444</td>\n",
              "      <td>126.241651</td>\n",
              "      <td>39.037244</td>\n",
              "      <td>33090.467090</td>\n",
              "    </tr>\n",
              "    <tr>\n",
              "      <th>std</th>\n",
              "      <td>6.675347</td>\n",
              "      <td>22.255285</td>\n",
              "      <td>0.814136</td>\n",
              "      <td>19.237931</td>\n",
              "      <td>111.752831</td>\n",
              "    </tr>\n",
              "    <tr>\n",
              "      <th>min</th>\n",
              "      <td>10.000000</td>\n",
              "      <td>40.000000</td>\n",
              "      <td>119.600000</td>\n",
              "      <td>9.000000</td>\n",
              "      <td>32191.641182</td>\n",
              "    </tr>\n",
              "    <tr>\n",
              "      <th>25%</th>\n",
              "      <td>14.000000</td>\n",
              "      <td>58.000000</td>\n",
              "      <td>125.700000</td>\n",
              "      <td>20.000000</td>\n",
              "      <td>33015.790836</td>\n",
              "    </tr>\n",
              "    <tr>\n",
              "      <th>50%</th>\n",
              "      <td>20.000000</td>\n",
              "      <td>78.000000</td>\n",
              "      <td>126.500000</td>\n",
              "      <td>41.000000</td>\n",
              "      <td>33125.810636</td>\n",
              "    </tr>\n",
              "    <tr>\n",
              "      <th>75%</th>\n",
              "      <td>26.000000</td>\n",
              "      <td>97.500000</td>\n",
              "      <td>126.600000</td>\n",
              "      <td>50.000000</td>\n",
              "      <td>33139.595226</td>\n",
              "    </tr>\n",
              "    <tr>\n",
              "      <th>max</th>\n",
              "      <td>32.000000</td>\n",
              "      <td>115.000000</td>\n",
              "      <td>129.000000</td>\n",
              "      <td>75.000000</td>\n",
              "      <td>33472.584856</td>\n",
              "    </tr>\n",
              "  </tbody>\n",
              "</table>\n",
              "</div>"
            ],
            "text/plain": [
              "           Subject          BPM          GSR          Age  Human Resistance\n",
              "count  1611.000000  1611.000000  1611.000000  1611.000000       1611.000000\n",
              "mean     20.319056    77.935444   126.241651    39.037244      33090.467090\n",
              "std       6.675347    22.255285     0.814136    19.237931        111.752831\n",
              "min      10.000000    40.000000   119.600000     9.000000      32191.641182\n",
              "25%      14.000000    58.000000   125.700000    20.000000      33015.790836\n",
              "50%      20.000000    78.000000   126.500000    41.000000      33125.810636\n",
              "75%      26.000000    97.500000   126.600000    50.000000      33139.595226\n",
              "max      32.000000   115.000000   129.000000    75.000000      33472.584856"
            ]
          },
          "metadata": {},
          "execution_count": 4
        }
      ]
    },
    {
      "cell_type": "code",
      "metadata": {
        "colab": {
          "base_uri": "https://localhost:8080/",
          "height": 295
        },
        "id": "VKishERwSXbA",
        "outputId": "c5f57cf4-0f37-4026-96de-fba5f65a283e"
      },
      "source": [
        "aut.describe()"
      ],
      "execution_count": null,
      "outputs": [
        {
          "output_type": "execute_result",
          "data": {
            "text/html": [
              "<div>\n",
              "<style scoped>\n",
              "    .dataframe tbody tr th:only-of-type {\n",
              "        vertical-align: middle;\n",
              "    }\n",
              "\n",
              "    .dataframe tbody tr th {\n",
              "        vertical-align: top;\n",
              "    }\n",
              "\n",
              "    .dataframe thead th {\n",
              "        text-align: right;\n",
              "    }\n",
              "</style>\n",
              "<table border=\"1\" class=\"dataframe\">\n",
              "  <thead>\n",
              "    <tr style=\"text-align: right;\">\n",
              "      <th></th>\n",
              "      <th>Subject</th>\n",
              "      <th>BPM</th>\n",
              "      <th>GSR</th>\n",
              "      <th>Age</th>\n",
              "      <th>Human Resistance</th>\n",
              "    </tr>\n",
              "  </thead>\n",
              "  <tbody>\n",
              "    <tr>\n",
              "      <th>count</th>\n",
              "      <td>866.000000</td>\n",
              "      <td>866.000000</td>\n",
              "      <td>866.000000</td>\n",
              "      <td>866.000000</td>\n",
              "      <td>866.000000</td>\n",
              "    </tr>\n",
              "    <tr>\n",
              "      <th>mean</th>\n",
              "      <td>4.078522</td>\n",
              "      <td>78.293303</td>\n",
              "      <td>127.414550</td>\n",
              "      <td>18.036952</td>\n",
              "      <td>33252.564665</td>\n",
              "    </tr>\n",
              "    <tr>\n",
              "      <th>std</th>\n",
              "      <td>2.237531</td>\n",
              "      <td>22.022834</td>\n",
              "      <td>1.081124</td>\n",
              "      <td>1.422697</td>\n",
              "      <td>149.614063</td>\n",
              "    </tr>\n",
              "    <tr>\n",
              "      <th>min</th>\n",
              "      <td>0.000000</td>\n",
              "      <td>40.000000</td>\n",
              "      <td>124.600000</td>\n",
              "      <td>15.000000</td>\n",
              "      <td>32865.255550</td>\n",
              "    </tr>\n",
              "    <tr>\n",
              "      <th>25%</th>\n",
              "      <td>3.000000</td>\n",
              "      <td>60.000000</td>\n",
              "      <td>126.600000</td>\n",
              "      <td>18.000000</td>\n",
              "      <td>33139.595226</td>\n",
              "    </tr>\n",
              "    <tr>\n",
              "      <th>50%</th>\n",
              "      <td>3.000000</td>\n",
              "      <td>76.000000</td>\n",
              "      <td>127.700000</td>\n",
              "      <td>18.000000</td>\n",
              "      <td>33291.699193</td>\n",
              "    </tr>\n",
              "    <tr>\n",
              "      <th>75%</th>\n",
              "      <td>5.000000</td>\n",
              "      <td>99.000000</td>\n",
              "      <td>128.700000</td>\n",
              "      <td>18.000000</td>\n",
              "      <td>33430.733107</td>\n",
              "    </tr>\n",
              "    <tr>\n",
              "      <th>max</th>\n",
              "      <td>9.000000</td>\n",
              "      <td>115.000000</td>\n",
              "      <td>130.000000</td>\n",
              "      <td>21.000000</td>\n",
              "      <td>33612.565445</td>\n",
              "    </tr>\n",
              "  </tbody>\n",
              "</table>\n",
              "</div>"
            ],
            "text/plain": [
              "          Subject         BPM         GSR         Age  Human Resistance\n",
              "count  866.000000  866.000000  866.000000  866.000000        866.000000\n",
              "mean     4.078522   78.293303  127.414550   18.036952      33252.564665\n",
              "std      2.237531   22.022834    1.081124    1.422697        149.614063\n",
              "min      0.000000   40.000000  124.600000   15.000000      32865.255550\n",
              "25%      3.000000   60.000000  126.600000   18.000000      33139.595226\n",
              "50%      3.000000   76.000000  127.700000   18.000000      33291.699193\n",
              "75%      5.000000   99.000000  128.700000   18.000000      33430.733107\n",
              "max      9.000000  115.000000  130.000000   21.000000      33612.565445"
            ]
          },
          "metadata": {},
          "execution_count": 5
        }
      ]
    },
    {
      "cell_type": "code",
      "source": [
        "aut_cleaned = aut[['BPM', \"GSR\", \"Human Resistance\"]]\n",
        "nor_cleaned = nor[['BPM', \"GSR\", \"Human Resistance\"]]"
      ],
      "metadata": {
        "id": "WALWJM8ouT0u"
      },
      "execution_count": null,
      "outputs": []
    },
    {
      "cell_type": "code",
      "source": [
        "aut_cleaned.describe()"
      ],
      "metadata": {
        "colab": {
          "base_uri": "https://localhost:8080/",
          "height": 272
        },
        "id": "M4LFJwKCujor",
        "outputId": "502b18b6-9717-4c14-a15c-38475b8fcbc5"
      },
      "execution_count": null,
      "outputs": [
        {
          "output_type": "execute_result",
          "data": {
            "text/html": [
              "\n",
              "  <div id=\"df-6c2106a8-58d0-4c6d-a84d-228558b673f7\">\n",
              "    <div class=\"colab-df-container\">\n",
              "      <div>\n",
              "<style scoped>\n",
              "    .dataframe tbody tr th:only-of-type {\n",
              "        vertical-align: middle;\n",
              "    }\n",
              "\n",
              "    .dataframe tbody tr th {\n",
              "        vertical-align: top;\n",
              "    }\n",
              "\n",
              "    .dataframe thead th {\n",
              "        text-align: right;\n",
              "    }\n",
              "</style>\n",
              "<table border=\"1\" class=\"dataframe\">\n",
              "  <thead>\n",
              "    <tr style=\"text-align: right;\">\n",
              "      <th></th>\n",
              "      <th>BPM</th>\n",
              "      <th>GSR</th>\n",
              "      <th>Human Resistance</th>\n",
              "    </tr>\n",
              "  </thead>\n",
              "  <tbody>\n",
              "    <tr>\n",
              "      <th>count</th>\n",
              "      <td>866.000000</td>\n",
              "      <td>866.000000</td>\n",
              "      <td>866.000000</td>\n",
              "    </tr>\n",
              "    <tr>\n",
              "      <th>mean</th>\n",
              "      <td>78.293303</td>\n",
              "      <td>127.414550</td>\n",
              "      <td>33252.564665</td>\n",
              "    </tr>\n",
              "    <tr>\n",
              "      <th>std</th>\n",
              "      <td>22.022834</td>\n",
              "      <td>1.081124</td>\n",
              "      <td>149.614063</td>\n",
              "    </tr>\n",
              "    <tr>\n",
              "      <th>min</th>\n",
              "      <td>40.000000</td>\n",
              "      <td>124.600000</td>\n",
              "      <td>32865.255550</td>\n",
              "    </tr>\n",
              "    <tr>\n",
              "      <th>25%</th>\n",
              "      <td>60.000000</td>\n",
              "      <td>126.600000</td>\n",
              "      <td>33139.595226</td>\n",
              "    </tr>\n",
              "    <tr>\n",
              "      <th>50%</th>\n",
              "      <td>76.000000</td>\n",
              "      <td>127.700000</td>\n",
              "      <td>33291.699193</td>\n",
              "    </tr>\n",
              "    <tr>\n",
              "      <th>75%</th>\n",
              "      <td>99.000000</td>\n",
              "      <td>128.700000</td>\n",
              "      <td>33430.733107</td>\n",
              "    </tr>\n",
              "    <tr>\n",
              "      <th>max</th>\n",
              "      <td>115.000000</td>\n",
              "      <td>130.000000</td>\n",
              "      <td>33612.565445</td>\n",
              "    </tr>\n",
              "  </tbody>\n",
              "</table>\n",
              "</div>\n",
              "      <button class=\"colab-df-convert\" onclick=\"convertToInteractive('df-6c2106a8-58d0-4c6d-a84d-228558b673f7')\"\n",
              "              title=\"Convert this dataframe to an interactive table.\"\n",
              "              style=\"display:none;\">\n",
              "        \n",
              "  <svg xmlns=\"http://www.w3.org/2000/svg\" height=\"24px\"viewBox=\"0 0 24 24\"\n",
              "       width=\"24px\">\n",
              "    <path d=\"M0 0h24v24H0V0z\" fill=\"none\"/>\n",
              "    <path d=\"M18.56 5.44l.94 2.06.94-2.06 2.06-.94-2.06-.94-.94-2.06-.94 2.06-2.06.94zm-11 1L8.5 8.5l.94-2.06 2.06-.94-2.06-.94L8.5 2.5l-.94 2.06-2.06.94zm10 10l.94 2.06.94-2.06 2.06-.94-2.06-.94-.94-2.06-.94 2.06-2.06.94z\"/><path d=\"M17.41 7.96l-1.37-1.37c-.4-.4-.92-.59-1.43-.59-.52 0-1.04.2-1.43.59L10.3 9.45l-7.72 7.72c-.78.78-.78 2.05 0 2.83L4 21.41c.39.39.9.59 1.41.59.51 0 1.02-.2 1.41-.59l7.78-7.78 2.81-2.81c.8-.78.8-2.07 0-2.86zM5.41 20L4 18.59l7.72-7.72 1.47 1.35L5.41 20z\"/>\n",
              "  </svg>\n",
              "      </button>\n",
              "      \n",
              "  <style>\n",
              "    .colab-df-container {\n",
              "      display:flex;\n",
              "      flex-wrap:wrap;\n",
              "      gap: 12px;\n",
              "    }\n",
              "\n",
              "    .colab-df-convert {\n",
              "      background-color: #E8F0FE;\n",
              "      border: none;\n",
              "      border-radius: 50%;\n",
              "      cursor: pointer;\n",
              "      display: none;\n",
              "      fill: #1967D2;\n",
              "      height: 32px;\n",
              "      padding: 0 0 0 0;\n",
              "      width: 32px;\n",
              "    }\n",
              "\n",
              "    .colab-df-convert:hover {\n",
              "      background-color: #E2EBFA;\n",
              "      box-shadow: 0px 1px 2px rgba(60, 64, 67, 0.3), 0px 1px 3px 1px rgba(60, 64, 67, 0.15);\n",
              "      fill: #174EA6;\n",
              "    }\n",
              "\n",
              "    [theme=dark] .colab-df-convert {\n",
              "      background-color: #3B4455;\n",
              "      fill: #D2E3FC;\n",
              "    }\n",
              "\n",
              "    [theme=dark] .colab-df-convert:hover {\n",
              "      background-color: #434B5C;\n",
              "      box-shadow: 0px 1px 3px 1px rgba(0, 0, 0, 0.15);\n",
              "      filter: drop-shadow(0px 1px 2px rgba(0, 0, 0, 0.3));\n",
              "      fill: #FFFFFF;\n",
              "    }\n",
              "  </style>\n",
              "\n",
              "      <script>\n",
              "        const buttonEl =\n",
              "          document.querySelector('#df-6c2106a8-58d0-4c6d-a84d-228558b673f7 button.colab-df-convert');\n",
              "        buttonEl.style.display =\n",
              "          google.colab.kernel.accessAllowed ? 'block' : 'none';\n",
              "\n",
              "        async function convertToInteractive(key) {\n",
              "          const element = document.querySelector('#df-6c2106a8-58d0-4c6d-a84d-228558b673f7');\n",
              "          const dataTable =\n",
              "            await google.colab.kernel.invokeFunction('convertToInteractive',\n",
              "                                                     [key], {});\n",
              "          if (!dataTable) return;\n",
              "\n",
              "          const docLinkHtml = 'Like what you see? Visit the ' +\n",
              "            '<a target=\"_blank\" href=https://colab.research.google.com/notebooks/data_table.ipynb>data table notebook</a>'\n",
              "            + ' to learn more about interactive tables.';\n",
              "          element.innerHTML = '';\n",
              "          dataTable['output_type'] = 'display_data';\n",
              "          await google.colab.output.renderOutput(dataTable, element);\n",
              "          const docLink = document.createElement('div');\n",
              "          docLink.innerHTML = docLinkHtml;\n",
              "          element.appendChild(docLink);\n",
              "        }\n",
              "      </script>\n",
              "    </div>\n",
              "  </div>\n",
              "  "
            ],
            "text/plain": [
              "              BPM         GSR  Human Resistance\n",
              "count  866.000000  866.000000        866.000000\n",
              "mean    78.293303  127.414550      33252.564665\n",
              "std     22.022834    1.081124        149.614063\n",
              "min     40.000000  124.600000      32865.255550\n",
              "25%     60.000000  126.600000      33139.595226\n",
              "50%     76.000000  127.700000      33291.699193\n",
              "75%     99.000000  128.700000      33430.733107\n",
              "max    115.000000  130.000000      33612.565445"
            ]
          },
          "metadata": {},
          "execution_count": 58
        }
      ]
    },
    {
      "cell_type": "code",
      "source": [
        "nor_cleaned.describe()"
      ],
      "metadata": {
        "colab": {
          "base_uri": "https://localhost:8080/",
          "height": 272
        },
        "id": "gF0yke5VuvcD",
        "outputId": "2b4768d6-a6a6-4c5a-9d5e-426a87b84a9e"
      },
      "execution_count": null,
      "outputs": [
        {
          "output_type": "execute_result",
          "data": {
            "text/html": [
              "\n",
              "  <div id=\"df-2abf42d1-3bb7-4770-a46d-f934b1accb5c\">\n",
              "    <div class=\"colab-df-container\">\n",
              "      <div>\n",
              "<style scoped>\n",
              "    .dataframe tbody tr th:only-of-type {\n",
              "        vertical-align: middle;\n",
              "    }\n",
              "\n",
              "    .dataframe tbody tr th {\n",
              "        vertical-align: top;\n",
              "    }\n",
              "\n",
              "    .dataframe thead th {\n",
              "        text-align: right;\n",
              "    }\n",
              "</style>\n",
              "<table border=\"1\" class=\"dataframe\">\n",
              "  <thead>\n",
              "    <tr style=\"text-align: right;\">\n",
              "      <th></th>\n",
              "      <th>BPM</th>\n",
              "      <th>GSR</th>\n",
              "      <th>Human Resistance</th>\n",
              "    </tr>\n",
              "  </thead>\n",
              "  <tbody>\n",
              "    <tr>\n",
              "      <th>count</th>\n",
              "      <td>1611.000000</td>\n",
              "      <td>1611.000000</td>\n",
              "      <td>1611.000000</td>\n",
              "    </tr>\n",
              "    <tr>\n",
              "      <th>mean</th>\n",
              "      <td>77.935444</td>\n",
              "      <td>126.241651</td>\n",
              "      <td>33090.467090</td>\n",
              "    </tr>\n",
              "    <tr>\n",
              "      <th>std</th>\n",
              "      <td>22.255285</td>\n",
              "      <td>0.814136</td>\n",
              "      <td>111.752831</td>\n",
              "    </tr>\n",
              "    <tr>\n",
              "      <th>min</th>\n",
              "      <td>40.000000</td>\n",
              "      <td>119.600000</td>\n",
              "      <td>32191.641182</td>\n",
              "    </tr>\n",
              "    <tr>\n",
              "      <th>25%</th>\n",
              "      <td>58.000000</td>\n",
              "      <td>125.700000</td>\n",
              "      <td>33015.790836</td>\n",
              "    </tr>\n",
              "    <tr>\n",
              "      <th>50%</th>\n",
              "      <td>78.000000</td>\n",
              "      <td>126.500000</td>\n",
              "      <td>33125.810636</td>\n",
              "    </tr>\n",
              "    <tr>\n",
              "      <th>75%</th>\n",
              "      <td>97.500000</td>\n",
              "      <td>126.600000</td>\n",
              "      <td>33139.595226</td>\n",
              "    </tr>\n",
              "    <tr>\n",
              "      <th>max</th>\n",
              "      <td>115.000000</td>\n",
              "      <td>129.000000</td>\n",
              "      <td>33472.584856</td>\n",
              "    </tr>\n",
              "  </tbody>\n",
              "</table>\n",
              "</div>\n",
              "      <button class=\"colab-df-convert\" onclick=\"convertToInteractive('df-2abf42d1-3bb7-4770-a46d-f934b1accb5c')\"\n",
              "              title=\"Convert this dataframe to an interactive table.\"\n",
              "              style=\"display:none;\">\n",
              "        \n",
              "  <svg xmlns=\"http://www.w3.org/2000/svg\" height=\"24px\"viewBox=\"0 0 24 24\"\n",
              "       width=\"24px\">\n",
              "    <path d=\"M0 0h24v24H0V0z\" fill=\"none\"/>\n",
              "    <path d=\"M18.56 5.44l.94 2.06.94-2.06 2.06-.94-2.06-.94-.94-2.06-.94 2.06-2.06.94zm-11 1L8.5 8.5l.94-2.06 2.06-.94-2.06-.94L8.5 2.5l-.94 2.06-2.06.94zm10 10l.94 2.06.94-2.06 2.06-.94-2.06-.94-.94-2.06-.94 2.06-2.06.94z\"/><path d=\"M17.41 7.96l-1.37-1.37c-.4-.4-.92-.59-1.43-.59-.52 0-1.04.2-1.43.59L10.3 9.45l-7.72 7.72c-.78.78-.78 2.05 0 2.83L4 21.41c.39.39.9.59 1.41.59.51 0 1.02-.2 1.41-.59l7.78-7.78 2.81-2.81c.8-.78.8-2.07 0-2.86zM5.41 20L4 18.59l7.72-7.72 1.47 1.35L5.41 20z\"/>\n",
              "  </svg>\n",
              "      </button>\n",
              "      \n",
              "  <style>\n",
              "    .colab-df-container {\n",
              "      display:flex;\n",
              "      flex-wrap:wrap;\n",
              "      gap: 12px;\n",
              "    }\n",
              "\n",
              "    .colab-df-convert {\n",
              "      background-color: #E8F0FE;\n",
              "      border: none;\n",
              "      border-radius: 50%;\n",
              "      cursor: pointer;\n",
              "      display: none;\n",
              "      fill: #1967D2;\n",
              "      height: 32px;\n",
              "      padding: 0 0 0 0;\n",
              "      width: 32px;\n",
              "    }\n",
              "\n",
              "    .colab-df-convert:hover {\n",
              "      background-color: #E2EBFA;\n",
              "      box-shadow: 0px 1px 2px rgba(60, 64, 67, 0.3), 0px 1px 3px 1px rgba(60, 64, 67, 0.15);\n",
              "      fill: #174EA6;\n",
              "    }\n",
              "\n",
              "    [theme=dark] .colab-df-convert {\n",
              "      background-color: #3B4455;\n",
              "      fill: #D2E3FC;\n",
              "    }\n",
              "\n",
              "    [theme=dark] .colab-df-convert:hover {\n",
              "      background-color: #434B5C;\n",
              "      box-shadow: 0px 1px 3px 1px rgba(0, 0, 0, 0.15);\n",
              "      filter: drop-shadow(0px 1px 2px rgba(0, 0, 0, 0.3));\n",
              "      fill: #FFFFFF;\n",
              "    }\n",
              "  </style>\n",
              "\n",
              "      <script>\n",
              "        const buttonEl =\n",
              "          document.querySelector('#df-2abf42d1-3bb7-4770-a46d-f934b1accb5c button.colab-df-convert');\n",
              "        buttonEl.style.display =\n",
              "          google.colab.kernel.accessAllowed ? 'block' : 'none';\n",
              "\n",
              "        async function convertToInteractive(key) {\n",
              "          const element = document.querySelector('#df-2abf42d1-3bb7-4770-a46d-f934b1accb5c');\n",
              "          const dataTable =\n",
              "            await google.colab.kernel.invokeFunction('convertToInteractive',\n",
              "                                                     [key], {});\n",
              "          if (!dataTable) return;\n",
              "\n",
              "          const docLinkHtml = 'Like what you see? Visit the ' +\n",
              "            '<a target=\"_blank\" href=https://colab.research.google.com/notebooks/data_table.ipynb>data table notebook</a>'\n",
              "            + ' to learn more about interactive tables.';\n",
              "          element.innerHTML = '';\n",
              "          dataTable['output_type'] = 'display_data';\n",
              "          await google.colab.output.renderOutput(dataTable, element);\n",
              "          const docLink = document.createElement('div');\n",
              "          docLink.innerHTML = docLinkHtml;\n",
              "          element.appendChild(docLink);\n",
              "        }\n",
              "      </script>\n",
              "    </div>\n",
              "  </div>\n",
              "  "
            ],
            "text/plain": [
              "               BPM          GSR  Human Resistance\n",
              "count  1611.000000  1611.000000       1611.000000\n",
              "mean     77.935444   126.241651      33090.467090\n",
              "std      22.255285     0.814136        111.752831\n",
              "min      40.000000   119.600000      32191.641182\n",
              "25%      58.000000   125.700000      33015.790836\n",
              "50%      78.000000   126.500000      33125.810636\n",
              "75%      97.500000   126.600000      33139.595226\n",
              "max     115.000000   129.000000      33472.584856"
            ]
          },
          "metadata": {},
          "execution_count": 60
        }
      ]
    },
    {
      "cell_type": "code",
      "metadata": {
        "colab": {
          "base_uri": "https://localhost:8080/",
          "height": 282
        },
        "id": "aqy6FdRN6i9H",
        "outputId": "27705e07-9db0-4bed-ef58-ff2f1daec2cf"
      },
      "source": [
        "plt.scatter([i for i in range(len(nor))],nor['BPM'])\n",
        "plt.scatter([i for i in range(len(aut))],aut['BPM'])"
      ],
      "execution_count": null,
      "outputs": [
        {
          "output_type": "execute_result",
          "data": {
            "text/plain": [
              "<matplotlib.collections.PathCollection at 0x7fdd27cdc910>"
            ]
          },
          "metadata": {},
          "execution_count": 6
        },
        {
          "output_type": "display_data",
          "data": {
            "image/png": "[encoded data removed]",
            "text/plain": [
              "<Figure size 432x288 with 1 Axes>"
            ]
          },
          "metadata": {
            "needs_background": "light"
          }
        }
      ]
    },
    {
      "cell_type": "code",
      "metadata": {
        "id": "8b_NWP71tRWc"
      },
      "source": [
        "nor.loc[:,'Y']=0"
      ],
      "execution_count": null,
      "outputs": []
    },
    {
      "cell_type": "code",
      "metadata": {
        "colab": {
          "base_uri": "https://localhost:8080/",
          "height": 205
        },
        "id": "Ry7p-_rXt1qH",
        "outputId": "8c696d29-5b2c-4c97-92c1-4fdf704b2730"
      },
      "source": [
        "nor.head()"
      ],
      "execution_count": null,
      "outputs": [
        {
          "output_type": "execute_result",
          "data": {
            "text/html": [
              "\n",
              "  <div id=\"df-be12a6a5-c397-41a1-8c3a-78d26c6a7702\">\n",
              "    <div class=\"colab-df-container\">\n",
              "      <div>\n",
              "<style scoped>\n",
              "    .dataframe tbody tr th:only-of-type {\n",
              "        vertical-align: middle;\n",
              "    }\n",
              "\n",
              "    .dataframe tbody tr th {\n",
              "        vertical-align: top;\n",
              "    }\n",
              "\n",
              "    .dataframe thead th {\n",
              "        text-align: right;\n",
              "    }\n",
              "</style>\n",
              "<table border=\"1\" class=\"dataframe\">\n",
              "  <thead>\n",
              "    <tr style=\"text-align: right;\">\n",
              "      <th></th>\n",
              "      <th>Date</th>\n",
              "      <th>Time</th>\n",
              "      <th>Subject</th>\n",
              "      <th>BPM</th>\n",
              "      <th>GSR</th>\n",
              "      <th>Gender</th>\n",
              "      <th>Age</th>\n",
              "      <th>Human Resistance</th>\n",
              "      <th>Y</th>\n",
              "    </tr>\n",
              "  </thead>\n",
              "  <tbody>\n",
              "    <tr>\n",
              "      <th>0</th>\n",
              "      <td>18/7/2021</td>\n",
              "      <td>21:39:18</td>\n",
              "      <td>10</td>\n",
              "      <td>45</td>\n",
              "      <td>129.0</td>\n",
              "      <td>M</td>\n",
              "      <td>21</td>\n",
              "      <td>33472.584856</td>\n",
              "      <td>0</td>\n",
              "    </tr>\n",
              "    <tr>\n",
              "      <th>1</th>\n",
              "      <td>18/7/2021</td>\n",
              "      <td>21:39:23</td>\n",
              "      <td>10</td>\n",
              "      <td>55</td>\n",
              "      <td>125.0</td>\n",
              "      <td>M</td>\n",
              "      <td>21</td>\n",
              "      <td>32919.896641</td>\n",
              "      <td>0</td>\n",
              "    </tr>\n",
              "    <tr>\n",
              "      <th>2</th>\n",
              "      <td>18/7/2021</td>\n",
              "      <td>21:39:29</td>\n",
              "      <td>10</td>\n",
              "      <td>90</td>\n",
              "      <td>126.0</td>\n",
              "      <td>M</td>\n",
              "      <td>21</td>\n",
              "      <td>33056.994819</td>\n",
              "      <td>0</td>\n",
              "    </tr>\n",
              "    <tr>\n",
              "      <th>3</th>\n",
              "      <td>18/7/2021</td>\n",
              "      <td>21:39:35</td>\n",
              "      <td>10</td>\n",
              "      <td>115</td>\n",
              "      <td>127.0</td>\n",
              "      <td>M</td>\n",
              "      <td>21</td>\n",
              "      <td>33194.805195</td>\n",
              "      <td>0</td>\n",
              "    </tr>\n",
              "    <tr>\n",
              "      <th>4</th>\n",
              "      <td>18/7/2021</td>\n",
              "      <td>21:39:40</td>\n",
              "      <td>10</td>\n",
              "      <td>107</td>\n",
              "      <td>126.0</td>\n",
              "      <td>M</td>\n",
              "      <td>21</td>\n",
              "      <td>33056.994819</td>\n",
              "      <td>0</td>\n",
              "    </tr>\n",
              "  </tbody>\n",
              "</table>\n",
              "</div>\n",
              "      <button class=\"colab-df-convert\" onclick=\"convertToInteractive('df-be12a6a5-c397-41a1-8c3a-78d26c6a7702')\"\n",
              "              title=\"Convert this dataframe to an interactive table.\"\n",
              "              style=\"display:none;\">\n",
              "        \n",
              "  <svg xmlns=\"http://www.w3.org/2000/svg\" height=\"24px\"viewBox=\"0 0 24 24\"\n",
              "       width=\"24px\">\n",
              "    <path d=\"M0 0h24v24H0V0z\" fill=\"none\"/>\n",
              "    <path d=\"M18.56 5.44l.94 2.06.94-2.06 2.06-.94-2.06-.94-.94-2.06-.94 2.06-2.06.94zm-11 1L8.5 8.5l.94-2.06 2.06-.94-2.06-.94L8.5 2.5l-.94 2.06-2.06.94zm10 10l.94 2.06.94-2.06 2.06-.94-2.06-.94-.94-2.06-.94 2.06-2.06.94z\"/><path d=\"M17.41 7.96l-1.37-1.37c-.4-.4-.92-.59-1.43-.59-.52 0-1.04.2-1.43.59L10.3 9.45l-7.72 7.72c-.78.78-.78 2.05 0 2.83L4 21.41c.39.39.9.59 1.41.59.51 0 1.02-.2 1.41-.59l7.78-7.78 2.81-2.81c.8-.78.8-2.07 0-2.86zM5.41 20L4 18.59l7.72-7.72 1.47 1.35L5.41 20z\"/>\n",
              "  </svg>\n",
              "      </button>\n",
              "      \n",
              "  <style>\n",
              "    .colab-df-container {\n",
              "      display:flex;\n",
              "      flex-wrap:wrap;\n",
              "      gap: 12px;\n",
              "    }\n",
              "\n",
              "    .colab-df-convert {\n",
              "      background-color: #E8F0FE;\n",
              "      border: none;\n",
              "      border-radius: 50%;\n",
              "      cursor: pointer;\n",
              "      display: none;\n",
              "      fill: #1967D2;\n",
              "      height: 32px;\n",
              "      padding: 0 0 0 0;\n",
              "      width: 32px;\n",
              "    }\n",
              "\n",
              "    .colab-df-convert:hover {\n",
              "      background-color: #E2EBFA;\n",
              "      box-shadow: 0px 1px 2px rgba(60, 64, 67, 0.3), 0px 1px 3px 1px rgba(60, 64, 67, 0.15);\n",
              "      fill: #174EA6;\n",
              "    }\n",
              "\n",
              "    [theme=dark] .colab-df-convert {\n",
              "      background-color: #3B4455;\n",
              "      fill: #D2E3FC;\n",
              "    }\n",
              "\n",
              "    [theme=dark] .colab-df-convert:hover {\n",
              "      background-color: #434B5C;\n",
              "      box-shadow: 0px 1px 3px 1px rgba(0, 0, 0, 0.15);\n",
              "      filter: drop-shadow(0px 1px 2px rgba(0, 0, 0, 0.3));\n",
              "      fill: #FFFFFF;\n",
              "    }\n",
              "  </style>\n",
              "\n",
              "      <script>\n",
              "        const buttonEl =\n",
              "          document.querySelector('#df-be12a6a5-c397-41a1-8c3a-78d26c6a7702 button.colab-df-convert');\n",
              "        buttonEl.style.display =\n",
              "          google.colab.kernel.accessAllowed ? 'block' : 'none';\n",
              "\n",
              "        async function convertToInteractive(key) {\n",
              "          const element = document.querySelector('#df-be12a6a5-c397-41a1-8c3a-78d26c6a7702');\n",
              "          const dataTable =\n",
              "            await google.colab.kernel.invokeFunction('convertToInteractive',\n",
              "                                                     [key], {});\n",
              "          if (!dataTable) return;\n",
              "\n",
              "          const docLinkHtml = 'Like what you see? Visit the ' +\n",
              "            '<a target=\"_blank\" href=https://colab.research.google.com/notebooks/data_table.ipynb>data table notebook</a>'\n",
              "            + ' to learn more about interactive tables.';\n",
              "          element.innerHTML = '';\n",
              "          dataTable['output_type'] = 'display_data';\n",
              "          await google.colab.output.renderOutput(dataTable, element);\n",
              "          const docLink = document.createElement('div');\n",
              "          docLink.innerHTML = docLinkHtml;\n",
              "          element.appendChild(docLink);\n",
              "        }\n",
              "      </script>\n",
              "    </div>\n",
              "  </div>\n",
              "  "
            ],
            "text/plain": [
              "        Date      Time  Subject  BPM    GSR Gender  Age  Human Resistance  Y\n",
              "0  18/7/2021  21:39:18       10   45  129.0      M   21      33472.584856  0\n",
              "1  18/7/2021  21:39:23       10   55  125.0      M   21      32919.896641  0\n",
              "2  18/7/2021  21:39:29       10   90  126.0      M   21      33056.994819  0\n",
              "3  18/7/2021  21:39:35       10  115  127.0      M   21      33194.805195  0\n",
              "4  18/7/2021  21:39:40       10  107  126.0      M   21      33056.994819  0"
            ]
          },
          "metadata": {},
          "execution_count": 92
        }
      ]
    },
    {
      "cell_type": "code",
      "source": [
        "n1=nor[ nor['Subject']==11]\n",
        "a1=aut[aut['Subject']==8]\n",
        "time_scale = len(a1)\n",
        "time = [i for i in range(time_scale)]\n",
        "x = 40\n",
        "time = time[:x]\n",
        "n1 = n1[:x]\n",
        "a1 = a1[:x]"
      ],
      "metadata": {
        "id": "4YkAfTmLo99C"
      },
      "execution_count": null,
      "outputs": []
    },
    {
      "cell_type": "markdown",
      "source": [
        "# Data"
      ],
      "metadata": {
        "id": "u8jvn835xuXv"
      }
    },
    {
      "cell_type": "code",
      "source": [
        "a1['BPM']"
      ],
      "metadata": {
        "colab": {
          "base_uri": "https://localhost:8080/"
        },
        "id": "RM2VFZzUytm_",
        "outputId": "ac1ac1a7-c37e-4677-a4f2-11ef1b915f8a"
      },
      "execution_count": null,
      "outputs": [
        {
          "output_type": "execute_result",
          "data": {
            "text/plain": [
              "744     95\n",
              "745     83\n",
              "746     92\n",
              "747     59\n",
              "748     40\n",
              "749     58\n",
              "750     82\n",
              "751    107\n",
              "752     43\n",
              "753    114\n",
              "754    106\n",
              "755     79\n",
              "756     96\n",
              "757     83\n",
              "758     79\n",
              "759     96\n",
              "760    114\n",
              "761     46\n",
              "762     79\n",
              "763     53\n",
              "764     83\n",
              "765     57\n",
              "766    111\n",
              "767     69\n",
              "768     86\n",
              "769     50\n",
              "770     98\n",
              "771     61\n",
              "772     90\n",
              "773     41\n",
              "774     98\n",
              "775     64\n",
              "776     74\n",
              "777     58\n",
              "778     61\n",
              "779    101\n",
              "780     86\n",
              "781     57\n",
              "782     73\n",
              "783     80\n",
              "Name: BPM, dtype: int64"
            ]
          },
          "metadata": {},
          "execution_count": 17
        }
      ]
    },
    {
      "cell_type": "code",
      "source": [
        "#l=list(a1['BPM'])l"
      ],
      "metadata": {
        "id": "JpSNbromyBCn"
      },
      "execution_count": null,
      "outputs": []
    },
    {
      "cell_type": "code",
      "source": [
        "# initialize list of lists\n",
        "data = [list(n1['BPM']), list(a1['BPM'])]\n",
        " \n",
        "# Create the pandas DataFrame , columns=['Name', 'Age']\n",
        "df = pd.DataFrame(data, columns=[i for i in range(40)])\n",
        " \n",
        "# print dataframe.\n",
        "df"
      ],
      "metadata": {
        "colab": {
          "base_uri": "https://localhost:8080/",
          "height": 141
        },
        "id": "FBCv-o1kxtH3",
        "outputId": "4763b12b-7d84-4315-90df-5a0c3368836a"
      },
      "execution_count": null,
      "outputs": [
        {
          "output_type": "execute_result",
          "data": {
            "text/plain": [
              "   0    1   2   3    4   5    6    7   8    9   ...  30   31   32  33  34  \\\n",
              "0  55  112  99  59  105  79  100   88  46   75  ...  79  108  113  45  91   \n",
              "1  95   83  92  59   40  58   82  107  43  114  ...  98   64   74  58  61   \n",
              "\n",
              "    35  36  37  38   39  \n",
              "0  100  99  61  84  114  \n",
              "1  101  86  57  73   80  \n",
              "\n",
              "[2 rows x 40 columns]"
            ],
            "text/html": [
              "\n",
              "  <div id=\"df-9c0ae2a0-ce3b-4a8f-9985-42ef3abb493e\">\n",
              "    <div class=\"colab-df-container\">\n",
              "      <div>\n",
              "<style scoped>\n",
              "    .dataframe tbody tr th:only-of-type {\n",
              "        vertical-align: middle;\n",
              "    }\n",
              "\n",
              "    .dataframe tbody tr th {\n",
              "        vertical-align: top;\n",
              "    }\n",
              "\n",
              "    .dataframe thead th {\n",
              "        text-align: right;\n",
              "    }\n",
              "</style>\n",
              "<table border=\"1\" class=\"dataframe\">\n",
              "  <thead>\n",
              "    <tr style=\"text-align: right;\">\n",
              "      <th></th>\n",
              "      <th>0</th>\n",
              "      <th>1</th>\n",
              "      <th>2</th>\n",
              "      <th>3</th>\n",
              "      <th>4</th>\n",
              "      <th>5</th>\n",
              "      <th>6</th>\n",
              "      <th>7</th>\n",
              "      <th>8</th>\n",
              "      <th>9</th>\n",
              "      <th>...</th>\n",
              "      <th>30</th>\n",
              "      <th>31</th>\n",
              "      <th>32</th>\n",
              "      <th>33</th>\n",
              "      <th>34</th>\n",
              "      <th>35</th>\n",
              "      <th>36</th>\n",
              "      <th>37</th>\n",
              "      <th>38</th>\n",
              "      <th>39</th>\n",
              "    </tr>\n",
              "  </thead>\n",
              "  <tbody>\n",
              "    <tr>\n",
              "      <th>0</th>\n",
              "      <td>55</td>\n",
              "      <td>112</td>\n",
              "      <td>99</td>\n",
              "      <td>59</td>\n",
              "      <td>105</td>\n",
              "      <td>79</td>\n",
              "      <td>100</td>\n",
              "      <td>88</td>\n",
              "      <td>46</td>\n",
              "      <td>75</td>\n",
              "      <td>...</td>\n",
              "      <td>79</td>\n",
              "      <td>108</td>\n",
              "      <td>113</td>\n",
              "      <td>45</td>\n",
              "      <td>91</td>\n",
              "      <td>100</td>\n",
              "      <td>99</td>\n",
              "      <td>61</td>\n",
              "      <td>84</td>\n",
              "      <td>114</td>\n",
              "    </tr>\n",
              "    <tr>\n",
              "      <th>1</th>\n",
              "      <td>95</td>\n",
              "      <td>83</td>\n",
              "      <td>92</td>\n",
              "      <td>59</td>\n",
              "      <td>40</td>\n",
              "      <td>58</td>\n",
              "      <td>82</td>\n",
              "      <td>107</td>\n",
              "      <td>43</td>\n",
              "      <td>114</td>\n",
              "      <td>...</td>\n",
              "      <td>98</td>\n",
              "      <td>64</td>\n",
              "      <td>74</td>\n",
              "      <td>58</td>\n",
              "      <td>61</td>\n",
              "      <td>101</td>\n",
              "      <td>86</td>\n",
              "      <td>57</td>\n",
              "      <td>73</td>\n",
              "      <td>80</td>\n",
              "    </tr>\n",
              "  </tbody>\n",
              "</table>\n",
              "<p>2 rows × 40 columns</p>\n",
              "</div>\n",
              "      <button class=\"colab-df-convert\" onclick=\"convertToInteractive('df-9c0ae2a0-ce3b-4a8f-9985-42ef3abb493e')\"\n",
              "              title=\"Convert this dataframe to an interactive table.\"\n",
              "              style=\"display:none;\">\n",
              "        \n",
              "  <svg xmlns=\"http://www.w3.org/2000/svg\" height=\"24px\"viewBox=\"0 0 24 24\"\n",
              "       width=\"24px\">\n",
              "    <path d=\"M0 0h24v24H0V0z\" fill=\"none\"/>\n",
              "    <path d=\"M18.56 5.44l.94 2.06.94-2.06 2.06-.94-2.06-.94-.94-2.06-.94 2.06-2.06.94zm-11 1L8.5 8.5l.94-2.06 2.06-.94-2.06-.94L8.5 2.5l-.94 2.06-2.06.94zm10 10l.94 2.06.94-2.06 2.06-.94-2.06-.94-.94-2.06-.94 2.06-2.06.94z\"/><path d=\"M17.41 7.96l-1.37-1.37c-.4-.4-.92-.59-1.43-.59-.52 0-1.04.2-1.43.59L10.3 9.45l-7.72 7.72c-.78.78-.78 2.05 0 2.83L4 21.41c.39.39.9.59 1.41.59.51 0 1.02-.2 1.41-.59l7.78-7.78 2.81-2.81c.8-.78.8-2.07 0-2.86zM5.41 20L4 18.59l7.72-7.72 1.47 1.35L5.41 20z\"/>\n",
              "  </svg>\n",
              "      </button>\n",
              "      \n",
              "  <style>\n",
              "    .colab-df-container {\n",
              "      display:flex;\n",
              "      flex-wrap:wrap;\n",
              "      gap: 12px;\n",
              "    }\n",
              "\n",
              "    .colab-df-convert {\n",
              "      background-color: #E8F0FE;\n",
              "      border: none;\n",
              "      border-radius: 50%;\n",
              "      cursor: pointer;\n",
              "      display: none;\n",
              "      fill: #1967D2;\n",
              "      height: 32px;\n",
              "      padding: 0 0 0 0;\n",
              "      width: 32px;\n",
              "    }\n",
              "\n",
              "    .colab-df-convert:hover {\n",
              "      background-color: #E2EBFA;\n",
              "      box-shadow: 0px 1px 2px rgba(60, 64, 67, 0.3), 0px 1px 3px 1px rgba(60, 64, 67, 0.15);\n",
              "      fill: #174EA6;\n",
              "    }\n",
              "\n",
              "    [theme=dark] .colab-df-convert {\n",
              "      background-color: #3B4455;\n",
              "      fill: #D2E3FC;\n",
              "    }\n",
              "\n",
              "    [theme=dark] .colab-df-convert:hover {\n",
              "      background-color: #434B5C;\n",
              "      box-shadow: 0px 1px 3px 1px rgba(0, 0, 0, 0.15);\n",
              "      filter: drop-shadow(0px 1px 2px rgba(0, 0, 0, 0.3));\n",
              "      fill: #FFFFFF;\n",
              "    }\n",
              "  </style>\n",
              "\n",
              "      <script>\n",
              "        const buttonEl =\n",
              "          document.querySelector('#df-9c0ae2a0-ce3b-4a8f-9985-42ef3abb493e button.colab-df-convert');\n",
              "        buttonEl.style.display =\n",
              "          google.colab.kernel.accessAllowed ? 'block' : 'none';\n",
              "\n",
              "        async function convertToInteractive(key) {\n",
              "          const element = document.querySelector('#df-9c0ae2a0-ce3b-4a8f-9985-42ef3abb493e');\n",
              "          const dataTable =\n",
              "            await google.colab.kernel.invokeFunction('convertToInteractive',\n",
              "                                                     [key], {});\n",
              "          if (!dataTable) return;\n",
              "\n",
              "          const docLinkHtml = 'Like what you see? Visit the ' +\n",
              "            '<a target=\"_blank\" href=https://colab.research.google.com/notebooks/data_table.ipynb>data table notebook</a>'\n",
              "            + ' to learn more about interactive tables.';\n",
              "          element.innerHTML = '';\n",
              "          dataTable['output_type'] = 'display_data';\n",
              "          await google.colab.output.renderOutput(dataTable, element);\n",
              "          const docLink = document.createElement('div');\n",
              "          docLink.innerHTML = docLinkHtml;\n",
              "          element.appendChild(docLink);\n",
              "        }\n",
              "      </script>\n",
              "    </div>\n",
              "  </div>\n",
              "  "
            ]
          },
          "metadata": {},
          "execution_count": 19
        }
      ]
    },
    {
      "cell_type": "code",
      "source": [
        "#print(n1['BPM'].shape) a1['BPM']"
      ],
      "metadata": {
        "colab": {
          "base_uri": "https://localhost:8080/"
        },
        "id": "qr3WaUSZwkMn",
        "outputId": "e8a420e8-1f97-4957-a253-21fb97ac77d7"
      },
      "execution_count": null,
      "outputs": [
        {
          "output_type": "stream",
          "name": "stdout",
          "text": [
            "(40,)\n"
          ]
        }
      ]
    },
    {
      "cell_type": "code",
      "metadata": {
        "colab": {
          "base_uri": "https://localhost:8080/",
          "height": 279
        },
        "id": "eL1Q2kacWWZX",
        "outputId": "5929ca1c-b8f2-41cb-e0a7-8cd1150406e5"
      },
      "source": [
        "plt.plot(time, n1['BPM'], 'green')\n",
        "plt.xlabel('Time interval')\n",
        "plt.ylabel('BPM')\n",
        "plt.savefig('/content/drive/MyDrive/Autism/CSV/Results/nor_bpm.png')"
      ],
      "execution_count": null,
      "outputs": [
        {
          "output_type": "display_data",
          "data": {
            "image/png": "[encoded data removed]",
            "text/plain": [
              "<Figure size 432x288 with 1 Axes>"
            ]
          },
          "metadata": {
            "needs_background": "light"
          }
        }
      ]
    },
    {
      "cell_type": "code",
      "source": [],
      "metadata": {
        "colab": {
          "base_uri": "https://localhost:8080/",
          "height": 35
        },
        "id": "3LQXm6YPv49C",
        "outputId": "11951101-fe97-4a0c-de5c-257e9ec0428f"
      },
      "execution_count": null,
      "outputs": [
        {
          "output_type": "display_data",
          "data": {
            "text/plain": [
              "<Figure size 432x288 with 0 Axes>"
            ]
          },
          "metadata": {}
        }
      ]
    },
    {
      "cell_type": "code",
      "source": [
        "plt.plot(time, a1['BPM'],'red')\n",
        "plt.xlabel('Time interval')\n",
        "plt.ylabel('BPM')\n",
        "plt.savefig('/content/drive/MyDrive/Autism/CSV/Results/aut_bpm.png')"
      ],
      "metadata": {
        "colab": {
          "base_uri": "https://localhost:8080/",
          "height": 279
        },
        "id": "8X1GbOqfrt4x",
        "outputId": "cc11b59d-5ee2-40d4-cb34-50d9a6a49513"
      },
      "execution_count": null,
      "outputs": [
        {
          "output_type": "display_data",
          "data": {
            "image/png": "[encoded data removed]",
            "text/plain": [
              "<Figure size 432x288 with 1 Axes>"
            ]
          },
          "metadata": {
            "needs_background": "light"
          }
        }
      ]
    },
    {
      "cell_type": "code",
      "metadata": {
        "colab": {
          "base_uri": "https://localhost:8080/",
          "height": 279
        },
        "id": "c6JUl2hNXHw-",
        "outputId": "770ed2bc-09d2-4b41-ec73-b7242f5af45a"
      },
      "source": [
        "plt.plot(time, n1['GSR'],'green')\n",
        "plt.xlabel('Time interval')\n",
        "plt.ylabel('GSR')\n",
        "plt.savefig('/content/drive/MyDrive/Autism/CSV/Results/nor_gsr.png')"
      ],
      "execution_count": null,
      "outputs": [
        {
          "output_type": "display_data",
          "data": {
            "image/png": "[encoded data removed]",
            "text/plain": [
              "<Figure size 432x288 with 1 Axes>"
            ]
          },
          "metadata": {
            "needs_background": "light"
          }
        }
      ]
    },
    {
      "cell_type": "code",
      "source": [
        "plt.plot(time, a1['GSR'],'red')\n",
        "plt.xlabel('Time interval')\n",
        "plt.ylabel('GSR')\n",
        "plt.savefig('/content/drive/MyDrive/Autism/CSV/Results/aut_gsr.png')"
      ],
      "metadata": {
        "colab": {
          "base_uri": "https://localhost:8080/",
          "height": 279
        },
        "id": "QAd2L3Idtq2V",
        "outputId": "5f531c7d-36c4-45df-fb5a-0dcc6849cace"
      },
      "execution_count": null,
      "outputs": [
        {
          "output_type": "display_data",
          "data": {
            "image/png": "[encoded data removed]",
            "text/plain": [
              "<Figure size 432x288 with 1 Axes>"
            ]
          },
          "metadata": {
            "needs_background": "light"
          }
        }
      ]
    },
    {
      "cell_type": "code",
      "metadata": {
        "colab": {
          "base_uri": "https://localhost:8080/",
          "height": 205
        },
        "id": "PabsQLCswSDG",
        "outputId": "a966b8f7-b2de-43c4-f5bd-a0a641a5100a"
      },
      "source": [
        "aut.loc[:,'Y']=1\n",
        "aut.head()"
      ],
      "execution_count": null,
      "outputs": [
        {
          "output_type": "execute_result",
          "data": {
            "text/html": [
              "\n",
              "  <div id=\"df-28c60f7e-5499-4012-a2ab-484232ad05cc\">\n",
              "    <div class=\"colab-df-container\">\n",
              "      <div>\n",
              "<style scoped>\n",
              "    .dataframe tbody tr th:only-of-type {\n",
              "        vertical-align: middle;\n",
              "    }\n",
              "\n",
              "    .dataframe tbody tr th {\n",
              "        vertical-align: top;\n",
              "    }\n",
              "\n",
              "    .dataframe thead th {\n",
              "        text-align: right;\n",
              "    }\n",
              "</style>\n",
              "<table border=\"1\" class=\"dataframe\">\n",
              "  <thead>\n",
              "    <tr style=\"text-align: right;\">\n",
              "      <th></th>\n",
              "      <th>Date</th>\n",
              "      <th>Time</th>\n",
              "      <th>Subject</th>\n",
              "      <th>BPM</th>\n",
              "      <th>GSR</th>\n",
              "      <th>Gender</th>\n",
              "      <th>Age</th>\n",
              "      <th>Human Resistance</th>\n",
              "      <th>Y</th>\n",
              "    </tr>\n",
              "  </thead>\n",
              "  <tbody>\n",
              "    <tr>\n",
              "      <th>0</th>\n",
              "      <td>9/8/2021</td>\n",
              "      <td>12:11:29</td>\n",
              "      <td>0</td>\n",
              "      <td>62</td>\n",
              "      <td>129.0</td>\n",
              "      <td>M</td>\n",
              "      <td>15</td>\n",
              "      <td>33472.584856</td>\n",
              "      <td>1</td>\n",
              "    </tr>\n",
              "    <tr>\n",
              "      <th>1</th>\n",
              "      <td>9/8/2021</td>\n",
              "      <td>12:11:29</td>\n",
              "      <td>0</td>\n",
              "      <td>97</td>\n",
              "      <td>129.0</td>\n",
              "      <td>M</td>\n",
              "      <td>15</td>\n",
              "      <td>33472.584856</td>\n",
              "      <td>1</td>\n",
              "    </tr>\n",
              "    <tr>\n",
              "      <th>2</th>\n",
              "      <td>9/8/2021</td>\n",
              "      <td>12:11:40</td>\n",
              "      <td>0</td>\n",
              "      <td>86</td>\n",
              "      <td>129.0</td>\n",
              "      <td>M</td>\n",
              "      <td>15</td>\n",
              "      <td>33472.584856</td>\n",
              "      <td>1</td>\n",
              "    </tr>\n",
              "    <tr>\n",
              "      <th>3</th>\n",
              "      <td>9/8/2021</td>\n",
              "      <td>12:11:46</td>\n",
              "      <td>0</td>\n",
              "      <td>104</td>\n",
              "      <td>130.0</td>\n",
              "      <td>M</td>\n",
              "      <td>15</td>\n",
              "      <td>33612.565445</td>\n",
              "      <td>1</td>\n",
              "    </tr>\n",
              "    <tr>\n",
              "      <th>4</th>\n",
              "      <td>9/8/2021</td>\n",
              "      <td>12:11:51</td>\n",
              "      <td>0</td>\n",
              "      <td>71</td>\n",
              "      <td>125.0</td>\n",
              "      <td>M</td>\n",
              "      <td>15</td>\n",
              "      <td>32919.896641</td>\n",
              "      <td>1</td>\n",
              "    </tr>\n",
              "  </tbody>\n",
              "</table>\n",
              "</div>\n",
              "      <button class=\"colab-df-convert\" onclick=\"convertToInteractive('df-28c60f7e-5499-4012-a2ab-484232ad05cc')\"\n",
              "              title=\"Convert this dataframe to an interactive table.\"\n",
              "              style=\"display:none;\">\n",
              "        \n",
              "  <svg xmlns=\"http://www.w3.org/2000/svg\" height=\"24px\"viewBox=\"0 0 24 24\"\n",
              "       width=\"24px\">\n",
              "    <path d=\"M0 0h24v24H0V0z\" fill=\"none\"/>\n",
              "    <path d=\"M18.56 5.44l.94 2.06.94-2.06 2.06-.94-2.06-.94-.94-2.06-.94 2.06-2.06.94zm-11 1L8.5 8.5l.94-2.06 2.06-.94-2.06-.94L8.5 2.5l-.94 2.06-2.06.94zm10 10l.94 2.06.94-2.06 2.06-.94-2.06-.94-.94-2.06-.94 2.06-2.06.94z\"/><path d=\"M17.41 7.96l-1.37-1.37c-.4-.4-.92-.59-1.43-.59-.52 0-1.04.2-1.43.59L10.3 9.45l-7.72 7.72c-.78.78-.78 2.05 0 2.83L4 21.41c.39.39.9.59 1.41.59.51 0 1.02-.2 1.41-.59l7.78-7.78 2.81-2.81c.8-.78.8-2.07 0-2.86zM5.41 20L4 18.59l7.72-7.72 1.47 1.35L5.41 20z\"/>\n",
              "  </svg>\n",
              "      </button>\n",
              "      \n",
              "  <style>\n",
              "    .colab-df-container {\n",
              "      display:flex;\n",
              "      flex-wrap:wrap;\n",
              "      gap: 12px;\n",
              "    }\n",
              "\n",
              "    .colab-df-convert {\n",
              "      background-color: #E8F0FE;\n",
              "      border: none;\n",
              "      border-radius: 50%;\n",
              "      cursor: pointer;\n",
              "      display: none;\n",
              "      fill: #1967D2;\n",
              "      height: 32px;\n",
              "      padding: 0 0 0 0;\n",
              "      width: 32px;\n",
              "    }\n",
              "\n",
              "    .colab-df-convert:hover {\n",
              "      background-color: #E2EBFA;\n",
              "      box-shadow: 0px 1px 2px rgba(60, 64, 67, 0.3), 0px 1px 3px 1px rgba(60, 64, 67, 0.15);\n",
              "      fill: #174EA6;\n",
              "    }\n",
              "\n",
              "    [theme=dark] .colab-df-convert {\n",
              "      background-color: #3B4455;\n",
              "      fill: #D2E3FC;\n",
              "    }\n",
              "\n",
              "    [theme=dark] .colab-df-convert:hover {\n",
              "      background-color: #434B5C;\n",
              "      box-shadow: 0px 1px 3px 1px rgba(0, 0, 0, 0.15);\n",
              "      filter: drop-shadow(0px 1px 2px rgba(0, 0, 0, 0.3));\n",
              "      fill: #FFFFFF;\n",
              "    }\n",
              "  </style>\n",
              "\n",
              "      <script>\n",
              "        const buttonEl =\n",
              "          document.querySelector('#df-28c60f7e-5499-4012-a2ab-484232ad05cc button.colab-df-convert');\n",
              "        buttonEl.style.display =\n",
              "          google.colab.kernel.accessAllowed ? 'block' : 'none';\n",
              "\n",
              "        async function convertToInteractive(key) {\n",
              "          const element = document.querySelector('#df-28c60f7e-5499-4012-a2ab-484232ad05cc');\n",
              "          const dataTable =\n",
              "            await google.colab.kernel.invokeFunction('convertToInteractive',\n",
              "                                                     [key], {});\n",
              "          if (!dataTable) return;\n",
              "\n",
              "          const docLinkHtml = 'Like what you see? Visit the ' +\n",
              "            '<a target=\"_blank\" href=https://colab.research.google.com/notebooks/data_table.ipynb>data table notebook</a>'\n",
              "            + ' to learn more about interactive tables.';\n",
              "          element.innerHTML = '';\n",
              "          dataTable['output_type'] = 'display_data';\n",
              "          await google.colab.output.renderOutput(dataTable, element);\n",
              "          const docLink = document.createElement('div');\n",
              "          docLink.innerHTML = docLinkHtml;\n",
              "          element.appendChild(docLink);\n",
              "        }\n",
              "      </script>\n",
              "    </div>\n",
              "  </div>\n",
              "  "
            ],
            "text/plain": [
              "       Date      Time  Subject  BPM    GSR Gender  Age  Human Resistance  Y\n",
              "0  9/8/2021  12:11:29        0   62  129.0      M   15      33472.584856  1\n",
              "1  9/8/2021  12:11:29        0   97  129.0      M   15      33472.584856  1\n",
              "2  9/8/2021  12:11:40        0   86  129.0      M   15      33472.584856  1\n",
              "3  9/8/2021  12:11:46        0  104  130.0      M   15      33612.565445  1\n",
              "4  9/8/2021  12:11:51        0   71  125.0      M   15      32919.896641  1"
            ]
          },
          "metadata": {},
          "execution_count": 93
        }
      ]
    },
    {
      "cell_type": "code",
      "metadata": {
        "colab": {
          "base_uri": "https://localhost:8080/",
          "height": 52
        },
        "id": "WHPi7sAJaEYN",
        "outputId": "88feee91-e90a-4ecc-918f-12113f54acaa"
      },
      "source": [
        "'''\n",
        "\n",
        "\n",
        "'''"
      ],
      "execution_count": null,
      "outputs": [
        {
          "output_type": "execute_result",
          "data": {
            "application/vnd.google.colaboratory.intrinsic+json": {
              "type": "string"
            },
            "text/plain": [
              "\"\\na1=aut[ aut['Subject']==0 ]\\nplt.plot(a1['GSR'])\\nplt.xlabel('Time interval')\\nplt.ylabel('GSR')\\nplt.savefig('/content/drive/MyDrive/Autism/CSV/Results/aut_gsr.png')\\n\""
            ]
          },
          "metadata": {},
          "execution_count": 12
        }
      ]
    },
    {
      "cell_type": "code",
      "metadata": {
        "colab": {
          "base_uri": "https://localhost:8080/",
          "height": 52
        },
        "id": "pLGo_ywxaOqd",
        "outputId": "c3b9a0f4-94cc-4fad-a98c-f0acb09eeccb"
      },
      "source": [],
      "execution_count": null,
      "outputs": [
        {
          "output_type": "execute_result",
          "data": {
            "application/vnd.google.colaboratory.intrinsic+json": {
              "type": "string"
            },
            "text/plain": [
              "\"\\nplt.plot(a1['BPM'],'red')\\nplt.xlabel('Time interval')\\nplt.ylabel('BPM')\\nplt.savefig('/content/drive/MyDrive/Autism/CSV/Results/aut_bpm.png')\\n\""
            ]
          },
          "metadata": {},
          "execution_count": 13
        }
      ]
    },
    {
      "cell_type": "code",
      "metadata": {
        "id": "oyBzSPj_wcch"
      },
      "source": [
        "df=nor.append(aut, ignore_index=True)"
      ],
      "execution_count": null,
      "outputs": []
    },
    {
      "cell_type": "code",
      "source": [
        "print(len(df))"
      ],
      "metadata": {
        "colab": {
          "base_uri": "https://localhost:8080/"
        },
        "id": "3uoHS8-b8rfe",
        "outputId": "98df1ad7-617f-46a1-b407-58bc61d14dcb"
      },
      "execution_count": null,
      "outputs": [
        {
          "output_type": "stream",
          "name": "stdout",
          "text": [
            "2477\n"
          ]
        }
      ]
    },
    {
      "cell_type": "code",
      "source": [
        "df"
      ],
      "metadata": {
        "colab": {
          "base_uri": "https://localhost:8080/",
          "height": 421
        },
        "id": "V4ujEFKT8yyW",
        "outputId": "cc7908a6-3f9a-4746-9950-f9f35a2bf560"
      },
      "execution_count": null,
      "outputs": [
        {
          "output_type": "execute_result",
          "data": {
            "text/html": [
              "\n",
              "  <div id=\"df-c96bcfa0-0126-4a11-920c-c98db9c7b837\">\n",
              "    <div class=\"colab-df-container\">\n",
              "      <div>\n",
              "<style scoped>\n",
              "    .dataframe tbody tr th:only-of-type {\n",
              "        vertical-align: middle;\n",
              "    }\n",
              "\n",
              "    .dataframe tbody tr th {\n",
              "        vertical-align: top;\n",
              "    }\n",
              "\n",
              "    .dataframe thead th {\n",
              "        text-align: right;\n",
              "    }\n",
              "</style>\n",
              "<table border=\"1\" class=\"dataframe\">\n",
              "  <thead>\n",
              "    <tr style=\"text-align: right;\">\n",
              "      <th></th>\n",
              "      <th>Date</th>\n",
              "      <th>Time</th>\n",
              "      <th>Subject</th>\n",
              "      <th>BPM</th>\n",
              "      <th>GSR</th>\n",
              "      <th>Gender</th>\n",
              "      <th>Age</th>\n",
              "      <th>Human Resistance</th>\n",
              "      <th>Y</th>\n",
              "    </tr>\n",
              "  </thead>\n",
              "  <tbody>\n",
              "    <tr>\n",
              "      <th>0</th>\n",
              "      <td>18/7/2021</td>\n",
              "      <td>21:39:18</td>\n",
              "      <td>10</td>\n",
              "      <td>45</td>\n",
              "      <td>129.0</td>\n",
              "      <td>M</td>\n",
              "      <td>21</td>\n",
              "      <td>33472.584856</td>\n",
              "      <td>0</td>\n",
              "    </tr>\n",
              "    <tr>\n",
              "      <th>1</th>\n",
              "      <td>18/7/2021</td>\n",
              "      <td>21:39:23</td>\n",
              "      <td>10</td>\n",
              "      <td>55</td>\n",
              "      <td>125.0</td>\n",
              "      <td>M</td>\n",
              "      <td>21</td>\n",
              "      <td>32919.896641</td>\n",
              "      <td>0</td>\n",
              "    </tr>\n",
              "    <tr>\n",
              "      <th>2</th>\n",
              "      <td>18/7/2021</td>\n",
              "      <td>21:39:29</td>\n",
              "      <td>10</td>\n",
              "      <td>90</td>\n",
              "      <td>126.0</td>\n",
              "      <td>M</td>\n",
              "      <td>21</td>\n",
              "      <td>33056.994819</td>\n",
              "      <td>0</td>\n",
              "    </tr>\n",
              "    <tr>\n",
              "      <th>3</th>\n",
              "      <td>18/7/2021</td>\n",
              "      <td>21:39:35</td>\n",
              "      <td>10</td>\n",
              "      <td>115</td>\n",
              "      <td>127.0</td>\n",
              "      <td>M</td>\n",
              "      <td>21</td>\n",
              "      <td>33194.805195</td>\n",
              "      <td>0</td>\n",
              "    </tr>\n",
              "    <tr>\n",
              "      <th>4</th>\n",
              "      <td>18/7/2021</td>\n",
              "      <td>21:39:40</td>\n",
              "      <td>10</td>\n",
              "      <td>107</td>\n",
              "      <td>126.0</td>\n",
              "      <td>M</td>\n",
              "      <td>21</td>\n",
              "      <td>33056.994819</td>\n",
              "      <td>0</td>\n",
              "    </tr>\n",
              "    <tr>\n",
              "      <th>...</th>\n",
              "      <td>...</td>\n",
              "      <td>...</td>\n",
              "      <td>...</td>\n",
              "      <td>...</td>\n",
              "      <td>...</td>\n",
              "      <td>...</td>\n",
              "      <td>...</td>\n",
              "      <td>...</td>\n",
              "      <td>...</td>\n",
              "    </tr>\n",
              "    <tr>\n",
              "      <th>2472</th>\n",
              "      <td>15/7/2021</td>\n",
              "      <td>14:52:38</td>\n",
              "      <td>9</td>\n",
              "      <td>45</td>\n",
              "      <td>126.6</td>\n",
              "      <td>F</td>\n",
              "      <td>18</td>\n",
              "      <td>33139.595226</td>\n",
              "      <td>1</td>\n",
              "    </tr>\n",
              "    <tr>\n",
              "      <th>2473</th>\n",
              "      <td>15/7/2021</td>\n",
              "      <td>14:53:0</td>\n",
              "      <td>9</td>\n",
              "      <td>112</td>\n",
              "      <td>126.6</td>\n",
              "      <td>F</td>\n",
              "      <td>18</td>\n",
              "      <td>33139.595226</td>\n",
              "      <td>1</td>\n",
              "    </tr>\n",
              "    <tr>\n",
              "      <th>2474</th>\n",
              "      <td>15/7/2021</td>\n",
              "      <td>14:53:6</td>\n",
              "      <td>9</td>\n",
              "      <td>89</td>\n",
              "      <td>126.6</td>\n",
              "      <td>F</td>\n",
              "      <td>18</td>\n",
              "      <td>33139.595226</td>\n",
              "      <td>1</td>\n",
              "    </tr>\n",
              "    <tr>\n",
              "      <th>2475</th>\n",
              "      <td>15/7/2021</td>\n",
              "      <td>14:53:11</td>\n",
              "      <td>9</td>\n",
              "      <td>63</td>\n",
              "      <td>127.6</td>\n",
              "      <td>F</td>\n",
              "      <td>18</td>\n",
              "      <td>33277.835588</td>\n",
              "      <td>1</td>\n",
              "    </tr>\n",
              "    <tr>\n",
              "      <th>2476</th>\n",
              "      <td>15/7/2021</td>\n",
              "      <td>14:53:11</td>\n",
              "      <td>9</td>\n",
              "      <td>113</td>\n",
              "      <td>126.2</td>\n",
              "      <td>F</td>\n",
              "      <td>18</td>\n",
              "      <td>33084.499741</td>\n",
              "      <td>1</td>\n",
              "    </tr>\n",
              "  </tbody>\n",
              "</table>\n",
              "<p>2477 rows × 9 columns</p>\n",
              "</div>\n",
              "      <button class=\"colab-df-convert\" onclick=\"convertToInteractive('df-c96bcfa0-0126-4a11-920c-c98db9c7b837')\"\n",
              "              title=\"Convert this dataframe to an interactive table.\"\n",
              "              style=\"display:none;\">\n",
              "        \n",
              "  <svg xmlns=\"http://www.w3.org/2000/svg\" height=\"24px\"viewBox=\"0 0 24 24\"\n",
              "       width=\"24px\">\n",
              "    <path d=\"M0 0h24v24H0V0z\" fill=\"none\"/>\n",
              "    <path d=\"M18.56 5.44l.94 2.06.94-2.06 2.06-.94-2.06-.94-.94-2.06-.94 2.06-2.06.94zm-11 1L8.5 8.5l.94-2.06 2.06-.94-2.06-.94L8.5 2.5l-.94 2.06-2.06.94zm10 10l.94 2.06.94-2.06 2.06-.94-2.06-.94-.94-2.06-.94 2.06-2.06.94z\"/><path d=\"M17.41 7.96l-1.37-1.37c-.4-.4-.92-.59-1.43-.59-.52 0-1.04.2-1.43.59L10.3 9.45l-7.72 7.72c-.78.78-.78 2.05 0 2.83L4 21.41c.39.39.9.59 1.41.59.51 0 1.02-.2 1.41-.59l7.78-7.78 2.81-2.81c.8-.78.8-2.07 0-2.86zM5.41 20L4 18.59l7.72-7.72 1.47 1.35L5.41 20z\"/>\n",
              "  </svg>\n",
              "      </button>\n",
              "      \n",
              "  <style>\n",
              "    .colab-df-container {\n",
              "      display:flex;\n",
              "      flex-wrap:wrap;\n",
              "      gap: 12px;\n",
              "    }\n",
              "\n",
              "    .colab-df-convert {\n",
              "      background-color: #E8F0FE;\n",
              "      border: none;\n",
              "      border-radius: 50%;\n",
              "      cursor: pointer;\n",
              "      display: none;\n",
              "      fill: #1967D2;\n",
              "      height: 32px;\n",
              "      padding: 0 0 0 0;\n",
              "      width: 32px;\n",
              "    }\n",
              "\n",
              "    .colab-df-convert:hover {\n",
              "      background-color: #E2EBFA;\n",
              "      box-shadow: 0px 1px 2px rgba(60, 64, 67, 0.3), 0px 1px 3px 1px rgba(60, 64, 67, 0.15);\n",
              "      fill: #174EA6;\n",
              "    }\n",
              "\n",
              "    [theme=dark] .colab-df-convert {\n",
              "      background-color: #3B4455;\n",
              "      fill: #D2E3FC;\n",
              "    }\n",
              "\n",
              "    [theme=dark] .colab-df-convert:hover {\n",
              "      background-color: #434B5C;\n",
              "      box-shadow: 0px 1px 3px 1px rgba(0, 0, 0, 0.15);\n",
              "      filter: drop-shadow(0px 1px 2px rgba(0, 0, 0, 0.3));\n",
              "      fill: #FFFFFF;\n",
              "    }\n",
              "  </style>\n",
              "\n",
              "      <script>\n",
              "        const buttonEl =\n",
              "          document.querySelector('#df-c96bcfa0-0126-4a11-920c-c98db9c7b837 button.colab-df-convert');\n",
              "        buttonEl.style.display =\n",
              "          google.colab.kernel.accessAllowed ? 'block' : 'none';\n",
              "\n",
              "        async function convertToInteractive(key) {\n",
              "          const element = document.querySelector('#df-c96bcfa0-0126-4a11-920c-c98db9c7b837');\n",
              "          const dataTable =\n",
              "            await google.colab.kernel.invokeFunction('convertToInteractive',\n",
              "                                                     [key], {});\n",
              "          if (!dataTable) return;\n",
              "\n",
              "          const docLinkHtml = 'Like what you see? Visit the ' +\n",
              "            '<a target=\"_blank\" href=https://colab.research.google.com/notebooks/data_table.ipynb>data table notebook</a>'\n",
              "            + ' to learn more about interactive tables.';\n",
              "          element.innerHTML = '';\n",
              "          dataTable['output_type'] = 'display_data';\n",
              "          await google.colab.output.renderOutput(dataTable, element);\n",
              "          const docLink = document.createElement('div');\n",
              "          docLink.innerHTML = docLinkHtml;\n",
              "          element.appendChild(docLink);\n",
              "        }\n",
              "      </script>\n",
              "    </div>\n",
              "  </div>\n",
              "  "
            ],
            "text/plain": [
              "           Date      Time  Subject  BPM    GSR Gender  Age  Human Resistance  Y\n",
              "0     18/7/2021  21:39:18       10   45  129.0      M   21      33472.584856  0\n",
              "1     18/7/2021  21:39:23       10   55  125.0      M   21      32919.896641  0\n",
              "2     18/7/2021  21:39:29       10   90  126.0      M   21      33056.994819  0\n",
              "3     18/7/2021  21:39:35       10  115  127.0      M   21      33194.805195  0\n",
              "4     18/7/2021  21:39:40       10  107  126.0      M   21      33056.994819  0\n",
              "...         ...       ...      ...  ...    ...    ...  ...               ... ..\n",
              "2472  15/7/2021  14:52:38        9   45  126.6      F   18      33139.595226  1\n",
              "2473  15/7/2021   14:53:0        9  112  126.6      F   18      33139.595226  1\n",
              "2474  15/7/2021   14:53:6        9   89  126.6      F   18      33139.595226  1\n",
              "2475  15/7/2021  14:53:11        9   63  127.6      F   18      33277.835588  1\n",
              "2476  15/7/2021  14:53:11        9  113  126.2      F   18      33084.499741  1\n",
              "\n",
              "[2477 rows x 9 columns]"
            ]
          },
          "metadata": {},
          "execution_count": 96
        }
      ]
    },
    {
      "cell_type": "code",
      "metadata": {
        "colab": {
          "base_uri": "https://localhost:8080/",
          "height": 205
        },
        "id": "1bwmgC7-wzON",
        "outputId": "e1d5db2a-281e-473d-b42e-f4020010ffd8"
      },
      "source": [
        "df = df.sample(frac = 1)\n",
        "df.head()"
      ],
      "execution_count": null,
      "outputs": [
        {
          "output_type": "execute_result",
          "data": {
            "text/html": [
              "\n",
              "  <div id=\"df-f26537ee-9122-485d-8c24-e0afebd665af\">\n",
              "    <div class=\"colab-df-container\">\n",
              "      <div>\n",
              "<style scoped>\n",
              "    .dataframe tbody tr th:only-of-type {\n",
              "        vertical-align: middle;\n",
              "    }\n",
              "\n",
              "    .dataframe tbody tr th {\n",
              "        vertical-align: top;\n",
              "    }\n",
              "\n",
              "    .dataframe thead th {\n",
              "        text-align: right;\n",
              "    }\n",
              "</style>\n",
              "<table border=\"1\" class=\"dataframe\">\n",
              "  <thead>\n",
              "    <tr style=\"text-align: right;\">\n",
              "      <th></th>\n",
              "      <th>Date</th>\n",
              "      <th>Time</th>\n",
              "      <th>Subject</th>\n",
              "      <th>BPM</th>\n",
              "      <th>GSR</th>\n",
              "      <th>Gender</th>\n",
              "      <th>Age</th>\n",
              "      <th>Human Resistance</th>\n",
              "      <th>Y</th>\n",
              "    </tr>\n",
              "  </thead>\n",
              "  <tbody>\n",
              "    <tr>\n",
              "      <th>1674</th>\n",
              "      <td>9/8/2021</td>\n",
              "      <td>12:1:24</td>\n",
              "      <td>1</td>\n",
              "      <td>84</td>\n",
              "      <td>126.6</td>\n",
              "      <td>M</td>\n",
              "      <td>18</td>\n",
              "      <td>33139.595226</td>\n",
              "      <td>1</td>\n",
              "    </tr>\n",
              "    <tr>\n",
              "      <th>2377</th>\n",
              "      <td>17/7/2021</td>\n",
              "      <td>17:48:32</td>\n",
              "      <td>8</td>\n",
              "      <td>111</td>\n",
              "      <td>126.2</td>\n",
              "      <td>M</td>\n",
              "      <td>20</td>\n",
              "      <td>33084.499741</td>\n",
              "      <td>1</td>\n",
              "    </tr>\n",
              "    <tr>\n",
              "      <th>1482</th>\n",
              "      <td>15/7/2021</td>\n",
              "      <td>15:56:44</td>\n",
              "      <td>30</td>\n",
              "      <td>87</td>\n",
              "      <td>126.6</td>\n",
              "      <td>M</td>\n",
              "      <td>41</td>\n",
              "      <td>33139.595226</td>\n",
              "      <td>0</td>\n",
              "    </tr>\n",
              "    <tr>\n",
              "      <th>701</th>\n",
              "      <td>17/7/2021</td>\n",
              "      <td>18:3:31</td>\n",
              "      <td>18</td>\n",
              "      <td>79</td>\n",
              "      <td>126.6</td>\n",
              "      <td>F</td>\n",
              "      <td>49</td>\n",
              "      <td>33139.595226</td>\n",
              "      <td>0</td>\n",
              "    </tr>\n",
              "    <tr>\n",
              "      <th>2105</th>\n",
              "      <td>3/90/1978</td>\n",
              "      <td>9:3:15</td>\n",
              "      <td>3</td>\n",
              "      <td>72</td>\n",
              "      <td>128.8</td>\n",
              "      <td>M</td>\n",
              "      <td>18</td>\n",
              "      <td>33444.676409</td>\n",
              "      <td>1</td>\n",
              "    </tr>\n",
              "  </tbody>\n",
              "</table>\n",
              "</div>\n",
              "      <button class=\"colab-df-convert\" onclick=\"convertToInteractive('df-f26537ee-9122-485d-8c24-e0afebd665af')\"\n",
              "              title=\"Convert this dataframe to an interactive table.\"\n",
              "              style=\"display:none;\">\n",
              "        \n",
              "  <svg xmlns=\"http://www.w3.org/2000/svg\" height=\"24px\"viewBox=\"0 0 24 24\"\n",
              "       width=\"24px\">\n",
              "    <path d=\"M0 0h24v24H0V0z\" fill=\"none\"/>\n",
              "    <path d=\"M18.56 5.44l.94 2.06.94-2.06 2.06-.94-2.06-.94-.94-2.06-.94 2.06-2.06.94zm-11 1L8.5 8.5l.94-2.06 2.06-.94-2.06-.94L8.5 2.5l-.94 2.06-2.06.94zm10 10l.94 2.06.94-2.06 2.06-.94-2.06-.94-.94-2.06-.94 2.06-2.06.94z\"/><path d=\"M17.41 7.96l-1.37-1.37c-.4-.4-.92-.59-1.43-.59-.52 0-1.04.2-1.43.59L10.3 9.45l-7.72 7.72c-.78.78-.78 2.05 0 2.83L4 21.41c.39.39.9.59 1.41.59.51 0 1.02-.2 1.41-.59l7.78-7.78 2.81-2.81c.8-.78.8-2.07 0-2.86zM5.41 20L4 18.59l7.72-7.72 1.47 1.35L5.41 20z\"/>\n",
              "  </svg>\n",
              "      </button>\n",
              "      \n",
              "  <style>\n",
              "    .colab-df-container {\n",
              "      display:flex;\n",
              "      flex-wrap:wrap;\n",
              "      gap: 12px;\n",
              "    }\n",
              "\n",
              "    .colab-df-convert {\n",
              "      background-color: #E8F0FE;\n",
              "      border: none;\n",
              "      border-radius: 50%;\n",
              "      cursor: pointer;\n",
              "      display: none;\n",
              "      fill: #1967D2;\n",
              "      height: 32px;\n",
              "      padding: 0 0 0 0;\n",
              "      width: 32px;\n",
              "    }\n",
              "\n",
              "    .colab-df-convert:hover {\n",
              "      background-color: #E2EBFA;\n",
              "      box-shadow: 0px 1px 2px rgba(60, 64, 67, 0.3), 0px 1px 3px 1px rgba(60, 64, 67, 0.15);\n",
              "      fill: #174EA6;\n",
              "    }\n",
              "\n",
              "    [theme=dark] .colab-df-convert {\n",
              "      background-color: #3B4455;\n",
              "      fill: #D2E3FC;\n",
              "    }\n",
              "\n",
              "    [theme=dark] .colab-df-convert:hover {\n",
              "      background-color: #434B5C;\n",
              "      box-shadow: 0px 1px 3px 1px rgba(0, 0, 0, 0.15);\n",
              "      filter: drop-shadow(0px 1px 2px rgba(0, 0, 0, 0.3));\n",
              "      fill: #FFFFFF;\n",
              "    }\n",
              "  </style>\n",
              "\n",
              "      <script>\n",
              "        const buttonEl =\n",
              "          document.querySelector('#df-f26537ee-9122-485d-8c24-e0afebd665af button.colab-df-convert');\n",
              "        buttonEl.style.display =\n",
              "          google.colab.kernel.accessAllowed ? 'block' : 'none';\n",
              "\n",
              "        async function convertToInteractive(key) {\n",
              "          const element = document.querySelector('#df-f26537ee-9122-485d-8c24-e0afebd665af');\n",
              "          const dataTable =\n",
              "            await google.colab.kernel.invokeFunction('convertToInteractive',\n",
              "                                                     [key], {});\n",
              "          if (!dataTable) return;\n",
              "\n",
              "          const docLinkHtml = 'Like what you see? Visit the ' +\n",
              "            '<a target=\"_blank\" href=https://colab.research.google.com/notebooks/data_table.ipynb>data table notebook</a>'\n",
              "            + ' to learn more about interactive tables.';\n",
              "          element.innerHTML = '';\n",
              "          dataTable['output_type'] = 'display_data';\n",
              "          await google.colab.output.renderOutput(dataTable, element);\n",
              "          const docLink = document.createElement('div');\n",
              "          docLink.innerHTML = docLinkHtml;\n",
              "          element.appendChild(docLink);\n",
              "        }\n",
              "      </script>\n",
              "    </div>\n",
              "  </div>\n",
              "  "
            ],
            "text/plain": [
              "           Date      Time  Subject  BPM    GSR Gender  Age  Human Resistance  Y\n",
              "1674   9/8/2021   12:1:24        1   84  126.6      M   18      33139.595226  1\n",
              "2377  17/7/2021  17:48:32        8  111  126.2      M   20      33084.499741  1\n",
              "1482  15/7/2021  15:56:44       30   87  126.6      M   41      33139.595226  0\n",
              "701   17/7/2021   18:3:31       18   79  126.6      F   49      33139.595226  0\n",
              "2105  3/90/1978    9:3:15        3   72  128.8      M   18      33444.676409  1"
            ]
          },
          "metadata": {},
          "execution_count": 97
        }
      ]
    },
    {
      "cell_type": "code",
      "source": [],
      "metadata": {
        "id": "19LxY3wI612p"
      },
      "execution_count": null,
      "outputs": []
    },
    {
      "cell_type": "code",
      "source": [
        "l=[]\n",
        "k = []\n",
        "for i in range(len(df)):\n",
        "  if df['Gender'][i] not in ['M', 'F']:\n",
        "    l.append(df['Gender'][i])\n",
        "    df['Gender'][i] = 'F'\n",
        "    k.append(df['Gender'][i])\n",
        "\n",
        "print(l)\n",
        "print(k)"
      ],
      "metadata": {
        "colab": {
          "base_uri": "https://localhost:8080/"
        },
        "id": "RYocghZs5Qsq",
        "outputId": "949c98d3-0cbe-42ed-e90d-4c0999557292"
      },
      "execution_count": null,
      "outputs": [
        {
          "output_type": "stream",
          "name": "stdout",
          "text": [
            "['F ', 'F ', 'F ', 'F ', 'F ', 'F ', 'F ', 'F ', 'F ', 'F ', 'F ', 'F ', 'F ', 'F ', 'F ', 'F ', 'F ', 'F ', 'F ', 'F ', 'F ', 'F ', 'F ', 'F ', 'F ', 'F ', 'F ', 'F ', 'F ', 'F ', 'F ', 'F ', 'F ', 'F ', 'F ', 'F ', 'F ', 'F ', 'F ', 'F ', 'F ', 'F ', 'F ', 'F ', 'F ', 'F ', 'F ', 'F ', 'F ', 'F ', 'F ', 'F ', 'F ', 'F ', 'F ', 'F ', 'F ', 'F ', 'F ', 'F ', 'F ', 'F ', 'F ', 'F ', 'F ', 'F ', 'F ', 'F ', 'F ']\n",
            "['F', 'F', 'F', 'F', 'F', 'F', 'F', 'F', 'F', 'F', 'F', 'F', 'F', 'F', 'F', 'F', 'F', 'F', 'F', 'F', 'F', 'F', 'F', 'F', 'F', 'F', 'F', 'F', 'F', 'F', 'F', 'F', 'F', 'F', 'F', 'F', 'F', 'F', 'F', 'F', 'F', 'F', 'F', 'F', 'F', 'F', 'F', 'F', 'F', 'F', 'F', 'F', 'F', 'F', 'F', 'F', 'F', 'F', 'F', 'F', 'F', 'F', 'F', 'F', 'F', 'F', 'F', 'F', 'F']\n"
          ]
        },
        {
          "output_type": "stream",
          "name": "stderr",
          "text": [
            "/usr/local/lib/python3.7/dist-packages/ipykernel_launcher.py:6: SettingWithCopyWarning: \n",
            "A value is trying to be set on a copy of a slice from a DataFrame\n",
            "\n",
            "See the caveats in the documentation: https://pandas.pydata.org/pandas-docs/stable/user_guide/indexing.html#returning-a-view-versus-a-copy\n",
            "  \n"
          ]
        }
      ]
    },
    {
      "cell_type": "code",
      "source": [
        "df.to_csv('/content/drive/MyDrive/Autism/CSV/df_combined_cleaned.csv')"
      ],
      "metadata": {
        "id": "ygX5-jhJ6LT4"
      },
      "execution_count": null,
      "outputs": []
    },
    {
      "cell_type": "markdown",
      "source": [
        "###Loading Data for ML Model - Final"
      ],
      "metadata": {
        "id": "Hmg30qqr7ZHc"
      }
    },
    {
      "cell_type": "code",
      "source": [
        "df=pd.read_csv('/content/drive/MyDrive/Autism/CSV/df_combined_cleaned.csv')"
      ],
      "metadata": {
        "id": "pD3Anyir7Lc7"
      },
      "execution_count": null,
      "outputs": []
    },
    {
      "cell_type": "code",
      "source": [
        "df.head()"
      ],
      "metadata": {
        "colab": {
          "base_uri": "https://localhost:8080/",
          "height": 205
        },
        "id": "ksRwcqSPTH0j",
        "outputId": "9dfe82e4-5809-45b3-c7da-fddd55a167eb"
      },
      "execution_count": null,
      "outputs": [
        {
          "output_type": "execute_result",
          "data": {
            "text/html": [
              "\n",
              "  <div id=\"df-9db57939-9a4f-4066-bf2d-3f6454d81d2a\">\n",
              "    <div class=\"colab-df-container\">\n",
              "      <div>\n",
              "<style scoped>\n",
              "    .dataframe tbody tr th:only-of-type {\n",
              "        vertical-align: middle;\n",
              "    }\n",
              "\n",
              "    .dataframe tbody tr th {\n",
              "        vertical-align: top;\n",
              "    }\n",
              "\n",
              "    .dataframe thead th {\n",
              "        text-align: right;\n",
              "    }\n",
              "</style>\n",
              "<table border=\"1\" class=\"dataframe\">\n",
              "  <thead>\n",
              "    <tr style=\"text-align: right;\">\n",
              "      <th></th>\n",
              "      <th>Unnamed: 0</th>\n",
              "      <th>Date</th>\n",
              "      <th>Time</th>\n",
              "      <th>Subject</th>\n",
              "      <th>BPM</th>\n",
              "      <th>GSR</th>\n",
              "      <th>Gender</th>\n",
              "      <th>Age</th>\n",
              "      <th>Human Resistance</th>\n",
              "      <th>Y</th>\n",
              "      <th>Gender_Cleaned</th>\n",
              "    </tr>\n",
              "  </thead>\n",
              "  <tbody>\n",
              "    <tr>\n",
              "      <th>0</th>\n",
              "      <td>1674</td>\n",
              "      <td>9/8/2021</td>\n",
              "      <td>12:1:24</td>\n",
              "      <td>1</td>\n",
              "      <td>84</td>\n",
              "      <td>126.6</td>\n",
              "      <td>M</td>\n",
              "      <td>18</td>\n",
              "      <td>33139.595226</td>\n",
              "      <td>1</td>\n",
              "      <td>1</td>\n",
              "    </tr>\n",
              "    <tr>\n",
              "      <th>1</th>\n",
              "      <td>2377</td>\n",
              "      <td>17/7/2021</td>\n",
              "      <td>17:48:32</td>\n",
              "      <td>8</td>\n",
              "      <td>111</td>\n",
              "      <td>126.2</td>\n",
              "      <td>M</td>\n",
              "      <td>20</td>\n",
              "      <td>33084.499741</td>\n",
              "      <td>1</td>\n",
              "      <td>1</td>\n",
              "    </tr>\n",
              "    <tr>\n",
              "      <th>2</th>\n",
              "      <td>1482</td>\n",
              "      <td>15/7/2021</td>\n",
              "      <td>15:56:44</td>\n",
              "      <td>30</td>\n",
              "      <td>87</td>\n",
              "      <td>126.6</td>\n",
              "      <td>M</td>\n",
              "      <td>41</td>\n",
              "      <td>33139.595226</td>\n",
              "      <td>0</td>\n",
              "      <td>1</td>\n",
              "    </tr>\n",
              "    <tr>\n",
              "      <th>3</th>\n",
              "      <td>701</td>\n",
              "      <td>17/7/2021</td>\n",
              "      <td>18:3:31</td>\n",
              "      <td>18</td>\n",
              "      <td>79</td>\n",
              "      <td>126.6</td>\n",
              "      <td>F</td>\n",
              "      <td>49</td>\n",
              "      <td>33139.595226</td>\n",
              "      <td>0</td>\n",
              "      <td>0</td>\n",
              "    </tr>\n",
              "    <tr>\n",
              "      <th>4</th>\n",
              "      <td>2105</td>\n",
              "      <td>3/90/1978</td>\n",
              "      <td>9:3:15</td>\n",
              "      <td>3</td>\n",
              "      <td>72</td>\n",
              "      <td>128.8</td>\n",
              "      <td>M</td>\n",
              "      <td>18</td>\n",
              "      <td>33444.676409</td>\n",
              "      <td>1</td>\n",
              "      <td>1</td>\n",
              "    </tr>\n",
              "  </tbody>\n",
              "</table>\n",
              "</div>\n",
              "      <button class=\"colab-df-convert\" onclick=\"convertToInteractive('df-9db57939-9a4f-4066-bf2d-3f6454d81d2a')\"\n",
              "              title=\"Convert this dataframe to an interactive table.\"\n",
              "              style=\"display:none;\">\n",
              "        \n",
              "  <svg xmlns=\"http://www.w3.org/2000/svg\" height=\"24px\"viewBox=\"0 0 24 24\"\n",
              "       width=\"24px\">\n",
              "    <path d=\"M0 0h24v24H0V0z\" fill=\"none\"/>\n",
              "    <path d=\"M18.56 5.44l.94 2.06.94-2.06 2.06-.94-2.06-.94-.94-2.06-.94 2.06-2.06.94zm-11 1L8.5 8.5l.94-2.06 2.06-.94-2.06-.94L8.5 2.5l-.94 2.06-2.06.94zm10 10l.94 2.06.94-2.06 2.06-.94-2.06-.94-.94-2.06-.94 2.06-2.06.94z\"/><path d=\"M17.41 7.96l-1.37-1.37c-.4-.4-.92-.59-1.43-.59-.52 0-1.04.2-1.43.59L10.3 9.45l-7.72 7.72c-.78.78-.78 2.05 0 2.83L4 21.41c.39.39.9.59 1.41.59.51 0 1.02-.2 1.41-.59l7.78-7.78 2.81-2.81c.8-.78.8-2.07 0-2.86zM5.41 20L4 18.59l7.72-7.72 1.47 1.35L5.41 20z\"/>\n",
              "  </svg>\n",
              "      </button>\n",
              "      \n",
              "  <style>\n",
              "    .colab-df-container {\n",
              "      display:flex;\n",
              "      flex-wrap:wrap;\n",
              "      gap: 12px;\n",
              "    }\n",
              "\n",
              "    .colab-df-convert {\n",
              "      background-color: #E8F0FE;\n",
              "      border: none;\n",
              "      border-radius: 50%;\n",
              "      cursor: pointer;\n",
              "      display: none;\n",
              "      fill: #1967D2;\n",
              "      height: 32px;\n",
              "      padding: 0 0 0 0;\n",
              "      width: 32px;\n",
              "    }\n",
              "\n",
              "    .colab-df-convert:hover {\n",
              "      background-color: #E2EBFA;\n",
              "      box-shadow: 0px 1px 2px rgba(60, 64, 67, 0.3), 0px 1px 3px 1px rgba(60, 64, 67, 0.15);\n",
              "      fill: #174EA6;\n",
              "    }\n",
              "\n",
              "    [theme=dark] .colab-df-convert {\n",
              "      background-color: #3B4455;\n",
              "      fill: #D2E3FC;\n",
              "    }\n",
              "\n",
              "    [theme=dark] .colab-df-convert:hover {\n",
              "      background-color: #434B5C;\n",
              "      box-shadow: 0px 1px 3px 1px rgba(0, 0, 0, 0.15);\n",
              "      filter: drop-shadow(0px 1px 2px rgba(0, 0, 0, 0.3));\n",
              "      fill: #FFFFFF;\n",
              "    }\n",
              "  </style>\n",
              "\n",
              "      <script>\n",
              "        const buttonEl =\n",
              "          document.querySelector('#df-9db57939-9a4f-4066-bf2d-3f6454d81d2a button.colab-df-convert');\n",
              "        buttonEl.style.display =\n",
              "          google.colab.kernel.accessAllowed ? 'block' : 'none';\n",
              "\n",
              "        async function convertToInteractive(key) {\n",
              "          const element = document.querySelector('#df-9db57939-9a4f-4066-bf2d-3f6454d81d2a');\n",
              "          const dataTable =\n",
              "            await google.colab.kernel.invokeFunction('convertToInteractive',\n",
              "                                                     [key], {});\n",
              "          if (!dataTable) return;\n",
              "\n",
              "          const docLinkHtml = 'Like what you see? Visit the ' +\n",
              "            '<a target=\"_blank\" href=https://colab.research.google.com/notebooks/data_table.ipynb>data table notebook</a>'\n",
              "            + ' to learn more about interactive tables.';\n",
              "          element.innerHTML = '';\n",
              "          dataTable['output_type'] = 'display_data';\n",
              "          await google.colab.output.renderOutput(dataTable, element);\n",
              "          const docLink = document.createElement('div');\n",
              "          docLink.innerHTML = docLinkHtml;\n",
              "          element.appendChild(docLink);\n",
              "        }\n",
              "      </script>\n",
              "    </div>\n",
              "  </div>\n",
              "  "
            ],
            "text/plain": [
              "   Unnamed: 0       Date      Time  ...  Human Resistance  Y  Gender_Cleaned\n",
              "0        1674   9/8/2021   12:1:24  ...      33139.595226  1               1\n",
              "1        2377  17/7/2021  17:48:32  ...      33084.499741  1               1\n",
              "2        1482  15/7/2021  15:56:44  ...      33139.595226  0               1\n",
              "3         701  17/7/2021   18:3:31  ...      33139.595226  0               0\n",
              "4        2105  3/90/1978    9:3:15  ...      33444.676409  1               1\n",
              "\n",
              "[5 rows x 11 columns]"
            ]
          },
          "metadata": {},
          "execution_count": 4
        }
      ]
    },
    {
      "cell_type": "code",
      "source": [
        "m = 0\n",
        "f = 0\n",
        "result_df = df[df[\"Subject\"]<11]\n",
        "for i in range(len(result_df)):\n",
        "  if result_df[i]['Gender']=='M':\n",
        "    m+=1\n",
        "  elif result_df[i]['Gender']=='F':\n",
        "    f+=1\n",
        "\n",
        "print(m)\n",
        "print(f)"
      ],
      "metadata": {
        "id": "SCiUpV7jRGDZ"
      },
      "execution_count": null,
      "outputs": []
    },
    {
      "cell_type": "code",
      "source": [],
      "metadata": {
        "id": "xEG_cJ6zSBRr"
      },
      "execution_count": null,
      "outputs": []
    },
    {
      "cell_type": "code",
      "source": [
        "from sklearn.preprocessing import LabelEncoder\n",
        "le = LabelEncoder()\n",
        "le.fit(['M', 'F'])\n",
        "g =le.transform(df['Gender'])\n",
        "print(g)"
      ],
      "metadata": {
        "colab": {
          "base_uri": "https://localhost:8080/"
        },
        "id": "GZ3u-JZS3nXU",
        "outputId": "b7fdb6a6-5532-4dd8-8d5c-0edf9168142a"
      },
      "execution_count": null,
      "outputs": [
        {
          "output_type": "stream",
          "name": "stdout",
          "text": [
            "[1 1 1 ... 1 0 1]\n"
          ]
        }
      ]
    },
    {
      "cell_type": "code",
      "source": [
        "df['Gender_Cleaned'] = g"
      ],
      "metadata": {
        "id": "JB7llWZ87gKo"
      },
      "execution_count": null,
      "outputs": []
    },
    {
      "cell_type": "code",
      "source": [
        "df.to_csv('/content/drive/MyDrive/Autism/CSV/df_combined_cleaned.csv')"
      ],
      "metadata": {
        "id": "nJL-P3wR7nM3"
      },
      "execution_count": null,
      "outputs": []
    },
    {
      "cell_type": "code",
      "source": [
        "\n",
        "# categorical_Gender = [1 if df['Gender'][i]=='M' else 0 for i in range(len(df))]\n",
        "# print(categorical_Gender)\n",
        "# print(df['Gender'])"
      ],
      "metadata": {
        "id": "w2DcfRiV4_Ug"
      },
      "execution_count": null,
      "outputs": []
    },
    {
      "cell_type": "markdown",
      "source": [
        "# Start"
      ],
      "metadata": {
        "id": "4IhBQTAujiGO"
      }
    },
    {
      "cell_type": "code",
      "source": [
        "import pandas as pd\n",
        "import matplotlib.pyplot as plt "
      ],
      "metadata": {
        "id": "FozDONCNjUum"
      },
      "execution_count": null,
      "outputs": []
    },
    {
      "cell_type": "code",
      "source": [
        "df=pd.read_csv(\"/content/drive/MyDrive/Autism/CSV/df_combined_cleaned.csv\")"
      ],
      "metadata": {
        "id": "M28eeQQ6jbTf"
      },
      "execution_count": null,
      "outputs": []
    },
    {
      "cell_type": "code",
      "source": [
        "# df['Gender_Category'] = categorical_Gender"
      ],
      "metadata": {
        "id": "CtafZEo54FY0"
      },
      "execution_count": null,
      "outputs": []
    },
    {
      "cell_type": "code",
      "source": [
        "df.head()"
      ],
      "metadata": {
        "colab": {
          "base_uri": "https://localhost:8080/",
          "height": 206
        },
        "id": "Rm93FqhGjwju",
        "outputId": "0ed54b34-84a1-4ac4-b7f6-fde7ef68ac7f"
      },
      "execution_count": null,
      "outputs": [
        {
          "output_type": "execute_result",
          "data": {
            "text/plain": [
              "   Unnamed: 0       Date      Time  Subject  BPM    GSR Gender  Age  \\\n",
              "0        1674   9/8/2021   12:1:24        1   84  126.6      M   18   \n",
              "1        2377  17/7/2021  17:48:32        8  111  126.2      M   20   \n",
              "2        1482  15/7/2021  15:56:44       30   87  126.6      M   41   \n",
              "3         701  17/7/2021   18:3:31       18   79  126.6      F   49   \n",
              "4        2105  3/90/1978    9:3:15        3   72  128.8      M   18   \n",
              "\n",
              "   Human Resistance  Y  Gender_Cleaned  \n",
              "0      33139.595226  1               1  \n",
              "1      33084.499741  1               1  \n",
              "2      33139.595226  0               1  \n",
              "3      33139.595226  0               0  \n",
              "4      33444.676409  1               1  "
            ],
            "text/html": [
              "\n",
              "  <div id=\"df-efb59f8f-8320-497e-bedc-fa34eb377066\">\n",
              "    <div class=\"colab-df-container\">\n",
              "      <div>\n",
              "<style scoped>\n",
              "    .dataframe tbody tr th:only-of-type {\n",
              "        vertical-align: middle;\n",
              "    }\n",
              "\n",
              "    .dataframe tbody tr th {\n",
              "        vertical-align: top;\n",
              "    }\n",
              "\n",
              "    .dataframe thead th {\n",
              "        text-align: right;\n",
              "    }\n",
              "</style>\n",
              "<table border=\"1\" class=\"dataframe\">\n",
              "  <thead>\n",
              "    <tr style=\"text-align: right;\">\n",
              "      <th></th>\n",
              "      <th>Unnamed: 0</th>\n",
              "      <th>Date</th>\n",
              "      <th>Time</th>\n",
              "      <th>Subject</th>\n",
              "      <th>BPM</th>\n",
              "      <th>GSR</th>\n",
              "      <th>Gender</th>\n",
              "      <th>Age</th>\n",
              "      <th>Human Resistance</th>\n",
              "      <th>Y</th>\n",
              "      <th>Gender_Cleaned</th>\n",
              "    </tr>\n",
              "  </thead>\n",
              "  <tbody>\n",
              "    <tr>\n",
              "      <th>0</th>\n",
              "      <td>1674</td>\n",
              "      <td>9/8/2021</td>\n",
              "      <td>12:1:24</td>\n",
              "      <td>1</td>\n",
              "      <td>84</td>\n",
              "      <td>126.6</td>\n",
              "      <td>M</td>\n",
              "      <td>18</td>\n",
              "      <td>33139.595226</td>\n",
              "      <td>1</td>\n",
              "      <td>1</td>\n",
              "    </tr>\n",
              "    <tr>\n",
              "      <th>1</th>\n",
              "      <td>2377</td>\n",
              "      <td>17/7/2021</td>\n",
              "      <td>17:48:32</td>\n",
              "      <td>8</td>\n",
              "      <td>111</td>\n",
              "      <td>126.2</td>\n",
              "      <td>M</td>\n",
              "      <td>20</td>\n",
              "      <td>33084.499741</td>\n",
              "      <td>1</td>\n",
              "      <td>1</td>\n",
              "    </tr>\n",
              "    <tr>\n",
              "      <th>2</th>\n",
              "      <td>1482</td>\n",
              "      <td>15/7/2021</td>\n",
              "      <td>15:56:44</td>\n",
              "      <td>30</td>\n",
              "      <td>87</td>\n",
              "      <td>126.6</td>\n",
              "      <td>M</td>\n",
              "      <td>41</td>\n",
              "      <td>33139.595226</td>\n",
              "      <td>0</td>\n",
              "      <td>1</td>\n",
              "    </tr>\n",
              "    <tr>\n",
              "      <th>3</th>\n",
              "      <td>701</td>\n",
              "      <td>17/7/2021</td>\n",
              "      <td>18:3:31</td>\n",
              "      <td>18</td>\n",
              "      <td>79</td>\n",
              "      <td>126.6</td>\n",
              "      <td>F</td>\n",
              "      <td>49</td>\n",
              "      <td>33139.595226</td>\n",
              "      <td>0</td>\n",
              "      <td>0</td>\n",
              "    </tr>\n",
              "    <tr>\n",
              "      <th>4</th>\n",
              "      <td>2105</td>\n",
              "      <td>3/90/1978</td>\n",
              "      <td>9:3:15</td>\n",
              "      <td>3</td>\n",
              "      <td>72</td>\n",
              "      <td>128.8</td>\n",
              "      <td>M</td>\n",
              "      <td>18</td>\n",
              "      <td>33444.676409</td>\n",
              "      <td>1</td>\n",
              "      <td>1</td>\n",
              "    </tr>\n",
              "  </tbody>\n",
              "</table>\n",
              "</div>\n",
              "      <button class=\"colab-df-convert\" onclick=\"convertToInteractive('df-efb59f8f-8320-497e-bedc-fa34eb377066')\"\n",
              "              title=\"Convert this dataframe to an interactive table.\"\n",
              "              style=\"display:none;\">\n",
              "        \n",
              "  <svg xmlns=\"http://www.w3.org/2000/svg\" height=\"24px\"viewBox=\"0 0 24 24\"\n",
              "       width=\"24px\">\n",
              "    <path d=\"M0 0h24v24H0V0z\" fill=\"none\"/>\n",
              "    <path d=\"M18.56 5.44l.94 2.06.94-2.06 2.06-.94-2.06-.94-.94-2.06-.94 2.06-2.06.94zm-11 1L8.5 8.5l.94-2.06 2.06-.94-2.06-.94L8.5 2.5l-.94 2.06-2.06.94zm10 10l.94 2.06.94-2.06 2.06-.94-2.06-.94-.94-2.06-.94 2.06-2.06.94z\"/><path d=\"M17.41 7.96l-1.37-1.37c-.4-.4-.92-.59-1.43-.59-.52 0-1.04.2-1.43.59L10.3 9.45l-7.72 7.72c-.78.78-.78 2.05 0 2.83L4 21.41c.39.39.9.59 1.41.59.51 0 1.02-.2 1.41-.59l7.78-7.78 2.81-2.81c.8-.78.8-2.07 0-2.86zM5.41 20L4 18.59l7.72-7.72 1.47 1.35L5.41 20z\"/>\n",
              "  </svg>\n",
              "      </button>\n",
              "      \n",
              "  <style>\n",
              "    .colab-df-container {\n",
              "      display:flex;\n",
              "      flex-wrap:wrap;\n",
              "      gap: 12px;\n",
              "    }\n",
              "\n",
              "    .colab-df-convert {\n",
              "      background-color: #E8F0FE;\n",
              "      border: none;\n",
              "      border-radius: 50%;\n",
              "      cursor: pointer;\n",
              "      display: none;\n",
              "      fill: #1967D2;\n",
              "      height: 32px;\n",
              "      padding: 0 0 0 0;\n",
              "      width: 32px;\n",
              "    }\n",
              "\n",
              "    .colab-df-convert:hover {\n",
              "      background-color: #E2EBFA;\n",
              "      box-shadow: 0px 1px 2px rgba(60, 64, 67, 0.3), 0px 1px 3px 1px rgba(60, 64, 67, 0.15);\n",
              "      fill: #174EA6;\n",
              "    }\n",
              "\n",
              "    [theme=dark] .colab-df-convert {\n",
              "      background-color: #3B4455;\n",
              "      fill: #D2E3FC;\n",
              "    }\n",
              "\n",
              "    [theme=dark] .colab-df-convert:hover {\n",
              "      background-color: #434B5C;\n",
              "      box-shadow: 0px 1px 3px 1px rgba(0, 0, 0, 0.15);\n",
              "      filter: drop-shadow(0px 1px 2px rgba(0, 0, 0, 0.3));\n",
              "      fill: #FFFFFF;\n",
              "    }\n",
              "  </style>\n",
              "\n",
              "      <script>\n",
              "        const buttonEl =\n",
              "          document.querySelector('#df-efb59f8f-8320-497e-bedc-fa34eb377066 button.colab-df-convert');\n",
              "        buttonEl.style.display =\n",
              "          google.colab.kernel.accessAllowed ? 'block' : 'none';\n",
              "\n",
              "        async function convertToInteractive(key) {\n",
              "          const element = document.querySelector('#df-efb59f8f-8320-497e-bedc-fa34eb377066');\n",
              "          const dataTable =\n",
              "            await google.colab.kernel.invokeFunction('convertToInteractive',\n",
              "                                                     [key], {});\n",
              "          if (!dataTable) return;\n",
              "\n",
              "          const docLinkHtml = 'Like what you see? Visit the ' +\n",
              "            '<a target=\"_blank\" href=https://colab.research.google.com/notebooks/data_table.ipynb>data table notebook</a>'\n",
              "            + ' to learn more about interactive tables.';\n",
              "          element.innerHTML = '';\n",
              "          dataTable['output_type'] = 'display_data';\n",
              "          await google.colab.output.renderOutput(dataTable, element);\n",
              "          const docLink = document.createElement('div');\n",
              "          docLink.innerHTML = docLinkHtml;\n",
              "          element.appendChild(docLink);\n",
              "        }\n",
              "      </script>\n",
              "    </div>\n",
              "  </div>\n",
              "  "
            ]
          },
          "metadata": {},
          "execution_count": 5
        }
      ]
    },
    {
      "cell_type": "code",
      "metadata": {
        "id": "CXcDlFOX23_0"
      },
      "source": [
        "X=df[['BPM','GSR','Human Resistance', 'Gender_Cleaned', \"Age\"]]\n",
        "Y=df['Y']"
      ],
      "execution_count": null,
      "outputs": []
    },
    {
      "cell_type": "code",
      "metadata": {
        "id": "AWZvHlNX5ceU"
      },
      "source": [
        "from sklearn.model_selection import train_test_split\n",
        "X_train,X_test,y_train,y_test=train_test_split(X, Y, test_size=0.30)"
      ],
      "execution_count": null,
      "outputs": []
    },
    {
      "cell_type": "markdown",
      "source": [
        "# Feature Importance"
      ],
      "metadata": {
        "id": "fYgR5lJ4Z3EY"
      }
    },
    {
      "cell_type": "markdown",
      "source": [
        "### SelectKBest\n"
      ],
      "metadata": {
        "id": "SYLlvcdHaHDC"
      }
    },
    {
      "cell_type": "code",
      "source": [
        "from sklearn.feature_selection import SelectKBest,chi2"
      ],
      "metadata": {
        "id": "L5KWqYxlTv2K"
      },
      "execution_count": null,
      "outputs": []
    },
    {
      "cell_type": "code",
      "source": [
        "bestfeatures = SelectKBest(score_func=chi2, k=5)\n",
        "fit = bestfeatures.fit(X,Y)"
      ],
      "metadata": {
        "id": "rmQmOALAT1QH"
      },
      "execution_count": null,
      "outputs": []
    },
    {
      "cell_type": "code",
      "source": [
        "dfscores = pd.DataFrame(fit.scores_)\n",
        "dfcolumns = pd.DataFrame(X.columns)"
      ],
      "metadata": {
        "id": "MhaWdzr6T6gv"
      },
      "execution_count": null,
      "outputs": []
    },
    {
      "cell_type": "code",
      "source": [
        "featureScores = pd.concat([dfcolumns,dfscores],axis=1)\n",
        "featureScores.columns = ['Specs','Score']  \n",
        "print(featureScores.nlargest(5,'Score'))"
      ],
      "metadata": {
        "colab": {
          "base_uri": "https://localhost:8080/"
        },
        "id": "NLwqy_MdUJvK",
        "outputId": "982505b5-d3d5-45ee-fd73-b7f625a69430"
      },
      "execution_count": null,
      "outputs": [
        {
          "output_type": "stream",
          "name": "stdout",
          "text": [
            "              Specs        Score\n",
            "4               Age  7836.906624\n",
            "2  Human Resistance   446.472192\n",
            "3    Gender_Cleaned   114.686239\n",
            "1               GSR     6.117827\n",
            "0               BPM     0.924015\n"
          ]
        }
      ]
    },
    {
      "cell_type": "markdown",
      "source": [
        "### Extra Tree Classifier"
      ],
      "metadata": {
        "id": "j8BgXLIFaqES"
      }
    },
    {
      "cell_type": "code",
      "source": [
        "from sklearn.ensemble import ExtraTreesClassifier\n",
        "import matplotlib.pyplot as plt\n",
        "model = ExtraTreesClassifier()\n",
        "model.fit(X,Y)"
      ],
      "metadata": {
        "colab": {
          "base_uri": "https://localhost:8080/"
        },
        "id": "TMfmoZVOZSVo",
        "outputId": "528414e0-6a23-455a-a86d-27902b8f7f30"
      },
      "execution_count": null,
      "outputs": [
        {
          "output_type": "execute_result",
          "data": {
            "text/plain": [
              "ExtraTreesClassifier()"
            ]
          },
          "metadata": {},
          "execution_count": 20
        }
      ]
    },
    {
      "cell_type": "code",
      "source": [
        "feat_importances = pd.Series(model.feature_importances_, index=X.columns)\n",
        "feat_importances.nlargest(5).plot(kind='barh')\n",
        "plt.show()"
      ],
      "metadata": {
        "colab": {
          "base_uri": "https://localhost:8080/",
          "height": 265
        },
        "id": "y3JoAyv9ZVfb",
        "outputId": "f245ab5d-a035-4a24-99a9-fb7ef0fa616d"
      },
      "execution_count": null,
      "outputs": [
        {
          "output_type": "display_data",
          "data": {
            "image/png": "[encoded data removed]",
            "text/plain": [
              "<Figure size 432x288 with 1 Axes>"
            ]
          },
          "metadata": {
            "needs_background": "light"
          }
        }
      ]
    },
    {
      "cell_type": "markdown",
      "metadata": {
        "id": "l11e-qTo6os8"
      },
      "source": [
        "#SVM"
      ]
    },
    {
      "cell_type": "code",
      "metadata": {
        "colab": {
          "base_uri": "https://localhost:8080/"
        },
        "id": "HGnkAIny57Rl",
        "outputId": "b019d6fc-a510-4cb7-ce3b-52a6ca7060cb"
      },
      "source": [
        "from sklearn.svm import SVC\n",
        "clf1 = SVC(gamma='auto')\n",
        "clf1.fit(X_train, y_train)"
      ],
      "execution_count": null,
      "outputs": [
        {
          "output_type": "execute_result",
          "data": {
            "text/plain": [
              "SVC(gamma='auto')"
            ]
          },
          "metadata": {},
          "execution_count": 8
        }
      ]
    },
    {
      "cell_type": "code",
      "metadata": {
        "id": "t2tM5M3B6X8K"
      },
      "source": [
        "y_pred1=clf1.predict(X_test)"
      ],
      "execution_count": null,
      "outputs": []
    },
    {
      "cell_type": "code",
      "metadata": {
        "id": "ZUdiMIc47AVz"
      },
      "source": [
        "from sklearn.metrics import accuracy_score\n",
        "a1=accuracy_score(y_test, y_pred1)"
      ],
      "execution_count": null,
      "outputs": []
    },
    {
      "cell_type": "code",
      "metadata": {
        "id": "HNmrtCzZMKQz",
        "colab": {
          "base_uri": "https://localhost:8080/"
        },
        "outputId": "a6e31723-bf20-4cfa-a941-f32e50616e01"
      },
      "source": [
        "from sklearn.metrics import classification_report\n",
        "print(classification_report(y_test, y_pred1))"
      ],
      "execution_count": null,
      "outputs": [
        {
          "output_type": "stream",
          "name": "stdout",
          "text": [
            "              precision    recall  f1-score   support\n",
            "\n",
            "           0       0.86      0.98      0.92       482\n",
            "           1       0.95      0.71      0.81       262\n",
            "\n",
            "    accuracy                           0.89       744\n",
            "   macro avg       0.91      0.85      0.87       744\n",
            "weighted avg       0.89      0.89      0.88       744\n",
            "\n"
          ]
        }
      ]
    },
    {
      "cell_type": "code",
      "source": [
        "from sklearn.metrics import f1_score, precision_score, recall_score\n",
        "f1=f1_score(y_test, y_pred1)\n",
        "p1=precision_score(y_test, y_pred1)\n",
        "r1=recall_score(y_test, y_pred1)"
      ],
      "metadata": {
        "id": "FDeFDha5nlzx"
      },
      "execution_count": null,
      "outputs": []
    },
    {
      "cell_type": "markdown",
      "metadata": {
        "id": "ouNZCbzE6txE"
      },
      "source": [
        "#Decision Tree"
      ]
    },
    {
      "cell_type": "code",
      "metadata": {
        "colab": {
          "base_uri": "https://localhost:8080/"
        },
        "id": "vruJPxhg6jR4",
        "outputId": "03b6b1f4-4cd3-440c-98a4-c46cc4a1d638"
      },
      "source": [
        "from sklearn.tree import DecisionTreeClassifier\n",
        "clf2 = DecisionTreeClassifier(random_state=0)\n",
        "clf2.fit(X_train, y_train)"
      ],
      "execution_count": null,
      "outputs": [
        {
          "output_type": "execute_result",
          "data": {
            "text/plain": [
              "DecisionTreeClassifier(random_state=0)"
            ]
          },
          "metadata": {},
          "execution_count": 12
        }
      ]
    },
    {
      "cell_type": "code",
      "metadata": {
        "id": "O83Nidpx7jth"
      },
      "source": [
        "y_pred2=clf2.predict(X_test)"
      ],
      "execution_count": null,
      "outputs": []
    },
    {
      "cell_type": "code",
      "metadata": {
        "id": "Q9fzVicL7wx1",
        "colab": {
          "base_uri": "https://localhost:8080/"
        },
        "outputId": "587384f7-939e-4a72-80b8-a3dfaa454a17"
      },
      "source": [
        "accuracy_score(y_test, y_pred2)"
      ],
      "execution_count": null,
      "outputs": [
        {
          "output_type": "execute_result",
          "data": {
            "text/plain": [
              "0.9731182795698925"
            ]
          },
          "metadata": {},
          "execution_count": 14
        }
      ]
    },
    {
      "cell_type": "code",
      "metadata": {
        "colab": {
          "base_uri": "https://localhost:8080/"
        },
        "id": "JBft5cvG_bYl",
        "outputId": "8b271b41-e2de-411b-cf28-54c602a2997e"
      },
      "source": [
        "print(classification_report(y_test, y_pred2))"
      ],
      "execution_count": null,
      "outputs": [
        {
          "output_type": "stream",
          "name": "stdout",
          "text": [
            "              precision    recall  f1-score   support\n",
            "\n",
            "           0       0.97      0.99      0.98       482\n",
            "           1       0.98      0.95      0.96       262\n",
            "\n",
            "    accuracy                           0.97       744\n",
            "   macro avg       0.97      0.97      0.97       744\n",
            "weighted avg       0.97      0.97      0.97       744\n",
            "\n"
          ]
        }
      ]
    },
    {
      "cell_type": "code",
      "source": [
        "from sklearn.metrics import f1_score, precision_score, recall_score, accuracy_score\n",
        "f2=f1_score(y_test, y_pred2)\n",
        "p2=precision_score(y_test, y_pred2)\n",
        "r2=recall_score(y_test, y_pred2)\n",
        "a2=accuracy_score(y_test, y_pred2)"
      ],
      "metadata": {
        "id": "SDfne-iXuG6Z"
      },
      "execution_count": null,
      "outputs": []
    },
    {
      "cell_type": "markdown",
      "metadata": {
        "id": "pf9vVc7-8GkT"
      },
      "source": [
        "#Naive Bayes"
      ]
    },
    {
      "cell_type": "code",
      "metadata": {
        "colab": {
          "base_uri": "https://localhost:8080/"
        },
        "id": "rLjoNMh29LjL",
        "outputId": "6dc785bf-6c59-4e3b-ddbd-887921c48a40"
      },
      "source": [
        "from sklearn.naive_bayes import GaussianNB\n",
        "clf3 = GaussianNB()\n",
        "clf3.fit(X_train, y_train)"
      ],
      "execution_count": null,
      "outputs": [
        {
          "output_type": "execute_result",
          "data": {
            "text/plain": [
              "GaussianNB()"
            ]
          },
          "metadata": {},
          "execution_count": 16
        }
      ]
    },
    {
      "cell_type": "code",
      "metadata": {
        "id": "DODMstgM9W9f"
      },
      "source": [
        "y_pred3=clf3.predict(X_test)"
      ],
      "execution_count": null,
      "outputs": []
    },
    {
      "cell_type": "code",
      "metadata": {
        "id": "yTYo8Az49L_K",
        "colab": {
          "base_uri": "https://localhost:8080/"
        },
        "outputId": "1221d625-1d7f-412a-bb68-c15fb88bc525"
      },
      "source": [
        "accuracy_score(y_test, y_pred3)"
      ],
      "execution_count": null,
      "outputs": [
        {
          "output_type": "execute_result",
          "data": {
            "text/plain": [
              "0.8548387096774194"
            ]
          },
          "metadata": {},
          "execution_count": 18
        }
      ]
    },
    {
      "cell_type": "code",
      "metadata": {
        "colab": {
          "base_uri": "https://localhost:8080/"
        },
        "id": "G40ia10K_es8",
        "outputId": "750cd8a3-7118-4e5c-cad3-a5724477a7c8"
      },
      "source": [
        "print(classification_report(y_test, y_pred3))"
      ],
      "execution_count": null,
      "outputs": [
        {
          "output_type": "stream",
          "name": "stdout",
          "text": [
            "              precision    recall  f1-score   support\n",
            "\n",
            "           0       0.92      0.85      0.88       482\n",
            "           1       0.76      0.86      0.81       262\n",
            "\n",
            "    accuracy                           0.85       744\n",
            "   macro avg       0.84      0.86      0.85       744\n",
            "weighted avg       0.86      0.85      0.86       744\n",
            "\n"
          ]
        }
      ]
    },
    {
      "cell_type": "code",
      "source": [
        "f3=f1_score(y_test, y_pred3)\n",
        "p3=precision_score(y_test, y_pred3)\n",
        "r3=recall_score(y_test, y_pred3)\n",
        "a3=accuracy_score(y_test, y_pred3)"
      ],
      "metadata": {
        "id": "F9x8Ck39uf3I"
      },
      "execution_count": null,
      "outputs": []
    },
    {
      "cell_type": "markdown",
      "metadata": {
        "id": "3wTxDd9j9n2U"
      },
      "source": [
        "#KNN"
      ]
    },
    {
      "cell_type": "code",
      "metadata": {
        "colab": {
          "base_uri": "https://localhost:8080/"
        },
        "id": "sAbGYjr59paC",
        "outputId": "e81e9bb6-5ca5-4f8b-c1be-a7d13ffa35e0"
      },
      "source": [
        "from sklearn.neighbors import KNeighborsClassifier\n",
        "clf4= KNeighborsClassifier(n_neighbors=15)\n",
        "clf4.fit(X_train,y_train)"
      ],
      "execution_count": null,
      "outputs": [
        {
          "output_type": "execute_result",
          "data": {
            "text/plain": [
              "KNeighborsClassifier(n_neighbors=15)"
            ]
          },
          "metadata": {},
          "execution_count": 20
        }
      ]
    },
    {
      "cell_type": "code",
      "metadata": {
        "id": "Oqn5kb1o917b"
      },
      "source": [
        "y_pred4=clf4.predict(X_test)"
      ],
      "execution_count": null,
      "outputs": []
    },
    {
      "cell_type": "code",
      "metadata": {
        "id": "lUnFr0oF-Aq8",
        "colab": {
          "base_uri": "https://localhost:8080/"
        },
        "outputId": "205317fd-7276-4e67-bdd8-013532e54109"
      },
      "source": [
        "accuracy_score(y_test, y_pred4)"
      ],
      "execution_count": null,
      "outputs": [
        {
          "output_type": "execute_result",
          "data": {
            "text/plain": [
              "0.8696236559139785"
            ]
          },
          "metadata": {},
          "execution_count": 22
        }
      ]
    },
    {
      "cell_type": "code",
      "metadata": {
        "colab": {
          "base_uri": "https://localhost:8080/"
        },
        "id": "OIZgBZWS_kXE",
        "outputId": "12a2fa2a-2c43-4382-993f-eaad589d26c7"
      },
      "source": [
        "print(classification_report(y_test, y_pred4))"
      ],
      "execution_count": null,
      "outputs": [
        {
          "output_type": "stream",
          "name": "stdout",
          "text": [
            "              precision    recall  f1-score   support\n",
            "\n",
            "           0       0.89      0.91      0.90       482\n",
            "           1       0.82      0.80      0.81       262\n",
            "\n",
            "    accuracy                           0.87       744\n",
            "   macro avg       0.86      0.85      0.86       744\n",
            "weighted avg       0.87      0.87      0.87       744\n",
            "\n"
          ]
        }
      ]
    },
    {
      "cell_type": "code",
      "source": [
        "f4=f1_score(y_test, y_pred4)\n",
        "p4=precision_score(y_test, y_pred4)\n",
        "r4=recall_score(y_test, y_pred4)\n",
        "a4=accuracy_score(y_test, y_pred4)"
      ],
      "metadata": {
        "id": "TxmmuFnxulag"
      },
      "execution_count": null,
      "outputs": []
    },
    {
      "cell_type": "markdown",
      "metadata": {
        "id": "G52SBo6H-Plb"
      },
      "source": [
        "#Logistic Regession"
      ]
    },
    {
      "cell_type": "code",
      "metadata": {
        "colab": {
          "base_uri": "https://localhost:8080/"
        },
        "id": "mfu4hGf7-CYm",
        "outputId": "baaaa0b4-8834-4721-a75c-10f219cd2dcc"
      },
      "source": [
        "from sklearn.linear_model import LogisticRegression\n",
        "clf5= LogisticRegression()\n",
        "clf5.fit(X_train,y_train)"
      ],
      "execution_count": null,
      "outputs": [
        {
          "output_type": "execute_result",
          "data": {
            "text/plain": [
              "LogisticRegression()"
            ]
          },
          "metadata": {},
          "execution_count": 24
        }
      ]
    },
    {
      "cell_type": "code",
      "metadata": {
        "id": "XAPEwxKa-cQr"
      },
      "source": [
        "y_pred5=clf5.predict(X_test)"
      ],
      "execution_count": null,
      "outputs": []
    },
    {
      "cell_type": "code",
      "metadata": {
        "id": "c-VoAmeE-gHn",
        "colab": {
          "base_uri": "https://localhost:8080/"
        },
        "outputId": "ba87a4f3-b002-40d5-c99a-35aca7a1c094"
      },
      "source": [
        "accuracy_score(y_test, y_pred5)"
      ],
      "execution_count": null,
      "outputs": [
        {
          "output_type": "execute_result",
          "data": {
            "text/plain": [
              "0.8669354838709677"
            ]
          },
          "metadata": {},
          "execution_count": 26
        }
      ]
    },
    {
      "cell_type": "code",
      "metadata": {
        "colab": {
          "base_uri": "https://localhost:8080/"
        },
        "id": "gxL2pTQs_nID",
        "outputId": "9cf06fb6-7fec-48d9-e70b-70bf497d7dc3"
      },
      "source": [
        "print(classification_report(y_test, y_pred5))"
      ],
      "execution_count": null,
      "outputs": [
        {
          "output_type": "stream",
          "name": "stdout",
          "text": [
            "              precision    recall  f1-score   support\n",
            "\n",
            "           0       0.88      0.92      0.90       482\n",
            "           1       0.84      0.77      0.80       262\n",
            "\n",
            "    accuracy                           0.87       744\n",
            "   macro avg       0.86      0.85      0.85       744\n",
            "weighted avg       0.87      0.87      0.87       744\n",
            "\n"
          ]
        }
      ]
    },
    {
      "cell_type": "code",
      "source": [
        "f5=f1_score(y_test, y_pred5)\n",
        "p5=precision_score(y_test, y_pred5)\n",
        "r5=recall_score(y_test, y_pred5)\n",
        "a5=accuracy_score(y_test, y_pred5)"
      ],
      "metadata": {
        "id": "F1XZjjO4uso4"
      },
      "execution_count": null,
      "outputs": []
    },
    {
      "cell_type": "markdown",
      "metadata": {
        "id": "kY7zGhX9-4Mz"
      },
      "source": [
        "#SGD"
      ]
    },
    {
      "cell_type": "code",
      "metadata": {
        "colab": {
          "base_uri": "https://localhost:8080/"
        },
        "id": "V1MW4YMk-5uS",
        "outputId": "3073523a-2c83-4d45-87fa-9b01a584184a"
      },
      "source": [
        "from sklearn.linear_model import SGDClassifier\n",
        "clf6=SGDClassifier(loss='modified_huber')\n",
        "clf6.fit(X_train,y_train)"
      ],
      "execution_count": null,
      "outputs": [
        {
          "output_type": "execute_result",
          "data": {
            "text/plain": [
              "SGDClassifier(loss='modified_huber')"
            ]
          },
          "metadata": {},
          "execution_count": 28
        }
      ]
    },
    {
      "cell_type": "code",
      "metadata": {
        "id": "-KNOOG70_CAw"
      },
      "source": [
        "y_pred6=clf6.predict(X_test)"
      ],
      "execution_count": null,
      "outputs": []
    },
    {
      "cell_type": "code",
      "metadata": {
        "id": "rIdbcTVW_HSi",
        "colab": {
          "base_uri": "https://localhost:8080/"
        },
        "outputId": "84e33372-bab9-484e-bdb7-8fc8d308751f"
      },
      "source": [
        "accuracy_score(y_test, y_pred6)"
      ],
      "execution_count": null,
      "outputs": [
        {
          "output_type": "execute_result",
          "data": {
            "text/plain": [
              "0.6478494623655914"
            ]
          },
          "metadata": {},
          "execution_count": 34
        }
      ]
    },
    {
      "cell_type": "code",
      "metadata": {
        "colab": {
          "base_uri": "https://localhost:8080/"
        },
        "id": "0wfyzrr8_rAk",
        "outputId": "f2a4349f-c95d-4f45-f033-619e4cf3b3c3"
      },
      "source": [
        "print(classification_report(y_test, y_pred6))"
      ],
      "execution_count": null,
      "outputs": [
        {
          "output_type": "stream",
          "name": "stdout",
          "text": [
            "              precision    recall  f1-score   support\n",
            "\n",
            "           0       0.65      1.00      0.79       482\n",
            "           1       0.00      0.00      0.00       262\n",
            "\n",
            "    accuracy                           0.65       744\n",
            "   macro avg       0.32      0.50      0.39       744\n",
            "weighted avg       0.42      0.65      0.51       744\n",
            "\n"
          ]
        },
        {
          "output_type": "stream",
          "name": "stderr",
          "text": [
            "/usr/local/lib/python3.7/dist-packages/sklearn/metrics/_classification.py:1318: UndefinedMetricWarning: Precision and F-score are ill-defined and being set to 0.0 in labels with no predicted samples. Use `zero_division` parameter to control this behavior.\n",
            "  _warn_prf(average, modifier, msg_start, len(result))\n",
            "/usr/local/lib/python3.7/dist-packages/sklearn/metrics/_classification.py:1318: UndefinedMetricWarning: Precision and F-score are ill-defined and being set to 0.0 in labels with no predicted samples. Use `zero_division` parameter to control this behavior.\n",
            "  _warn_prf(average, modifier, msg_start, len(result))\n",
            "/usr/local/lib/python3.7/dist-packages/sklearn/metrics/_classification.py:1318: UndefinedMetricWarning: Precision and F-score are ill-defined and being set to 0.0 in labels with no predicted samples. Use `zero_division` parameter to control this behavior.\n",
            "  _warn_prf(average, modifier, msg_start, len(result))\n"
          ]
        }
      ]
    },
    {
      "cell_type": "markdown",
      "metadata": {
        "id": "NJRx7hMxAtEb"
      },
      "source": [
        "#Random Forest"
      ]
    },
    {
      "cell_type": "code",
      "metadata": {
        "colab": {
          "base_uri": "https://localhost:8080/"
        },
        "id": "FY2d4Dp7_Jww",
        "outputId": "0cd8eafb-8fe1-47d2-e3b4-541e3238e4de"
      },
      "source": [
        "from sklearn.ensemble import RandomForestClassifier\n",
        "clf7=RandomForestClassifier()\n",
        "clf7.fit(X_train,y_train)"
      ],
      "execution_count": null,
      "outputs": [
        {
          "output_type": "execute_result",
          "data": {
            "text/plain": [
              "RandomForestClassifier()"
            ]
          },
          "metadata": {},
          "execution_count": 36
        }
      ]
    },
    {
      "cell_type": "code",
      "metadata": {
        "id": "LDl62-7QA2Mg"
      },
      "source": [
        "y_pred7=clf7.predict(X_test)"
      ],
      "execution_count": null,
      "outputs": []
    },
    {
      "cell_type": "code",
      "metadata": {
        "id": "RKCLFuTi-6Or",
        "colab": {
          "base_uri": "https://localhost:8080/"
        },
        "outputId": "aa4da331-3f56-488f-e628-80a6bd38f68c"
      },
      "source": [
        "accuracy_score(y_test, y_pred7)"
      ],
      "execution_count": null,
      "outputs": [
        {
          "output_type": "execute_result",
          "data": {
            "text/plain": [
              "0.9717741935483871"
            ]
          },
          "metadata": {},
          "execution_count": 38
        }
      ]
    },
    {
      "cell_type": "code",
      "metadata": {
        "colab": {
          "base_uri": "https://localhost:8080/"
        },
        "id": "Y1F5TIed_uEk",
        "outputId": "0dcbbf52-4b9d-4b7c-d375-9e3883ebb854"
      },
      "source": [
        "print(classification_report(y_test, y_pred7))"
      ],
      "execution_count": null,
      "outputs": [
        {
          "output_type": "stream",
          "name": "stdout",
          "text": [
            "              precision    recall  f1-score   support\n",
            "\n",
            "           0       0.97      0.99      0.98       482\n",
            "           1       0.97      0.95      0.96       262\n",
            "\n",
            "    accuracy                           0.97       744\n",
            "   macro avg       0.97      0.97      0.97       744\n",
            "weighted avg       0.97      0.97      0.97       744\n",
            "\n"
          ]
        }
      ]
    },
    {
      "cell_type": "code",
      "source": [
        "f6=f1_score(y_test, y_pred7)\n",
        "p6=precision_score(y_test, y_pred7)\n",
        "r6=recall_score(y_test, y_pred7)\n",
        "a6=accuracy_score(y_test, y_pred7)"
      ],
      "metadata": {
        "id": "tXES3H3Muygx"
      },
      "execution_count": null,
      "outputs": []
    },
    {
      "cell_type": "code",
      "metadata": {
        "id": "10W2Lt7wCWXy"
      },
      "source": [
        "# dm={'Models':['SVM','Decision Tree', 'Naive Bayes', 'KNN', 'Logistic Regression', 'SGD','Random Forest'] ,\n",
        "# 'Acuracy Score':[0.7876344086021505,0.7741935483870968,0.7674731182795699, 0.7849462365591398, 0.7688172043010753,0.6384408602150538, 0.7674731182795699  ] }\n",
        "# #val3 = [[\"\" for c in range(10)] for r in range(10)] \n",
        "   \n",
        "# score=pd.DataFrame(dm)\n"
      ],
      "execution_count": null,
      "outputs": []
    },
    {
      "cell_type": "code",
      "source": [
        "# assign data of lists.  \n",
        "data = {'Accuracy': [a1,a2,a3,a4,a5,a6], 'F1 Score': [f1,f2,f3,f4,f5,f6], 'Precision': [p1,p2,p3,p4,p5,p6], 'Recall': [r1,r2,r3,r4,r5,r6]}  \n",
        "  \n",
        "# Create DataFrame  \n",
        "dataf = pd.DataFrame(data, index =['SVM', 'Decision Tree', 'Naive Bayes', 'KNN', 'Logistc Regression', 'Random Forest'])  "
      ],
      "metadata": {
        "id": "wPadTC6Ss0Iw"
      },
      "execution_count": null,
      "outputs": []
    },
    {
      "cell_type": "code",
      "source": [
        "print(dataf)"
      ],
      "metadata": {
        "colab": {
          "base_uri": "https://localhost:8080/"
        },
        "id": "J_1yTZ99u-vw",
        "outputId": "ed20f784-6695-44b3-f121-d04fa8651a1f"
      },
      "execution_count": null,
      "outputs": [
        {
          "output_type": "stream",
          "name": "stdout",
          "text": [
            "                    Accuracy  F1 Score  Precision    Recall\n",
            "SVM                 0.885753  0.814004   0.953846  0.709924\n",
            "Decision Tree       0.973118  0.961240   0.976378  0.946565\n",
            "Naive Bayes         0.854839  0.806452   0.760135  0.858779\n",
            "KNN                 0.869624  0.812379   0.823529  0.801527\n",
            "Logistc Regression  0.866935  0.803181   0.838174  0.770992\n",
            "Random Forest       0.971774  0.959381   0.972549  0.946565\n"
          ]
        }
      ]
    },
    {
      "cell_type": "code",
      "source": [
        "dataf.to_csv('/content/drive/MyDrive/Autism/CSV/Model_Metrics.csv')"
      ],
      "metadata": {
        "id": "7tEQmV-NvOAY"
      },
      "execution_count": null,
      "outputs": []
    },
    {
      "cell_type": "markdown",
      "source": [
        "##Saving Accuracy Dataframe - Single Cell\n"
      ],
      "metadata": {
        "id": "hJUNcl7WeOyI"
      }
    },
    {
      "cell_type": "code",
      "metadata": {
        "id": "fEQoi0RJF7iD",
        "colab": {
          "base_uri": "https://localhost:8080/"
        },
        "outputId": "7c24929f-b8cb-4022-c64a-acbc9df27e74"
      },
      "source": [
        "svm_score = accuracy_score(y_test, y_pred1)\n",
        "dt_score = accuracy_score(y_test, y_pred2)\n",
        "naivebayes_score = accuracy_score(y_test, y_pred3)\n",
        "knn_score = accuracy_score(y_test, y_pred4)\n",
        "logisticreg_score = accuracy_score(y_test, y_pred5)\n",
        "sgd_score = accuracy_score(y_test, y_pred6)\n",
        "randomforest_score = accuracy_score(y_test, y_pred7)\n",
        "\n",
        "dm={'Models':['SVM','Decision Tree', 'Naive Bayes', 'KNN', 'Logistic Regression', 'SGD','Random Forest'] ,\n",
        "'Acuracy Score':[svm_score, dt_score,naivebayes_score, knn_score, logisticreg_score, sgd_score, randomforest_score] }\n",
        "score=pd.DataFrame(dm)\n",
        "\n",
        "print(score)"
      ],
      "execution_count": null,
      "outputs": [
        {
          "output_type": "stream",
          "name": "stdout",
          "text": [
            "                Models  Acuracy Score\n",
            "0                  SVM       0.889785\n",
            "1        Decision Tree       0.967742\n",
            "2          Naive Bayes       0.858871\n",
            "3                  KNN       0.869624\n",
            "4  Logistic Regression       0.831989\n",
            "5                  SGD       0.634409\n",
            "6        Random Forest       0.961022\n"
          ]
        }
      ]
    },
    {
      "cell_type": "code",
      "metadata": {
        "id": "OJQoB73oOD-p"
      },
      "source": [
        "score.to_csv('/content/drive/MyDrive/Autism/CSV/score_withgender_withage.csv')"
      ],
      "execution_count": null,
      "outputs": []
    },
    {
      "cell_type": "code",
      "metadata": {
        "id": "b8qhHFNvOxAA",
        "colab": {
          "base_uri": "https://localhost:8080/",
          "height": 295
        },
        "outputId": "82333e6c-4bdd-41df-8ada-9065d7d56d90"
      },
      "source": [
        "from sklearn import metrics\n",
        "fpr1, tpr1, thresholds1 = metrics.roc_curve(y_test, y_pred1)\n",
        "fpr2, tpr2, thresholds2 = metrics.roc_curve(y_test, y_pred2)\n",
        "fpr3, tpr3, thresholds3 = metrics.roc_curve(y_test, y_pred3)\n",
        "fpr4, tpr4, thresholds4 = metrics.roc_curve(y_test, y_pred4)\n",
        "fpr5, tpr5, thresholds5 = metrics.roc_curve(y_test, y_pred5)\n",
        "fpr6, tpr6, thresholds6 = metrics.roc_curve(y_test, y_pred6)\n",
        "fpr7, tpr7, thresholds7 = metrics.roc_curve(y_test, y_pred7)\n",
        "\n",
        "plt.plot(fpr1,tpr1)\n",
        "plt.plot(fpr2,tpr2)\n",
        "plt.plot(fpr3,tpr3)\n",
        "plt.plot(fpr4,tpr4)\n",
        "plt.plot(fpr5,tpr5)\n",
        "plt.plot(fpr6,tpr6)\n",
        "plt.plot(fpr7,tpr7)\n",
        "\n",
        "plt.legend( ['SVM','Decision Tree', 'Naive Bayes', 'KNN', 'Logistic Regression', 'SGD','Random Forest'] )\n",
        "\n",
        "plt.xlabel('False Positive Rate')\n",
        "plt.ylabel('True Positive Rate')\n",
        "plt.title('ROC curve')\n",
        "plt.savefig('/content/drive/MyDrive/Autism/CSV/roc_withgender_withage.png')"
      ],
      "execution_count": null,
      "outputs": [
        {
          "output_type": "display_data",
          "data": {
            "image/png": "[encoded data removed]",
            "text/plain": [
              "<Figure size 432x288 with 1 Axes>"
            ]
          },
          "metadata": {
            "needs_background": "light"
          }
        }
      ]
    },
    {
      "cell_type": "code",
      "metadata": {
        "id": "fsTRfDpeTQTH"
      },
      "source": [
        "import seaborn as sns\n",
        "plt.plot([i for i in range(len(X['BPM']))],X['BPM'])\n",
        "#sns.stripplot(data =X[['BPM']], jitter=0.2, size=2)"
      ],
      "execution_count": null,
      "outputs": []
    },
    {
      "cell_type": "code",
      "metadata": {
        "id": "LNBt1ExCQsK3"
      },
      "source": [
        "$"
      ],
      "execution_count": null,
      "outputs": []
    },
    {
      "cell_type": "code",
      "metadata": {
        "id": "6F03exA2A-dz"
      },
      "source": [
        "import plotly.graph_objects as go\n",
        "\n",
        "fig = go.Figure(data=[go.Table(header=dict(values=['Model', 'Accuracy Scores']),\n",
        "                 cells=dict(values=[['SVM'], [0.7876344086021505] ]))\n",
        "                     ])\n",
        "fig.show()"
      ],
      "execution_count": null,
      "outputs": []
    },
    {
      "cell_type": "code",
      "metadata": {
        "id": "Grgcchkn7lBD"
      },
      "source": [
        "#$"
      ],
      "execution_count": null,
      "outputs": []
    },
    {
      "cell_type": "code",
      "metadata": {
        "id": "aG5IhW4V1-lJ"
      },
      "source": [
        "from sklearn.decomposition import PCA\n",
        "pca = PCA()"
      ],
      "execution_count": null,
      "outputs": []
    },
    {
      "cell_type": "code",
      "metadata": {
        "id": "eAXBlwGv23F9"
      },
      "source": [
        "pca.fit(X)\n",
        "print(pca.explained_variance_ratio_)"
      ],
      "execution_count": null,
      "outputs": []
    },
    {
      "cell_type": "code",
      "metadata": {
        "id": "8FuU53Ga3InL"
      },
      "source": [],
      "execution_count": null,
      "outputs": []
    }
  ]
}